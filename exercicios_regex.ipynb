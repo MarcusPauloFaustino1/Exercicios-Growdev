{
  "nbformat": 4,
  "nbformat_minor": 0,
  "metadata": {
    "colab": {
      "provenance": [],
      "authorship_tag": "ABX9TyOvOUf9v5Gp5N1vA8fbgr6p",
      "include_colab_link": true
    },
    "kernelspec": {
      "name": "python3",
      "display_name": "Python 3"
    },
    "language_info": {
      "name": "python"
    }
  },
  "cells": [
    {
      "cell_type": "markdown",
      "metadata": {
        "id": "view-in-github",
        "colab_type": "text"
      },
      "source": [
        "<a href=\"https://colab.research.google.com/github/MarcusPauloFaustino1/Exercicios-Growdev/blob/main/exercicios_regex.ipynb\" target=\"_parent\"><img src=\"https://colab.research.google.com/assets/colab-badge.svg\" alt=\"Open In Colab\"/></a>"
      ]
    },
    {
      "cell_type": "markdown",
      "source": [
        "1) Crie uma RegEx para verificar se existe um email em uma string. O\n",
        "email deve ter um nome@dominio.com."
      ],
      "metadata": {
        "id": "AzHFhuQJ-UvI"
      }
    },
    {
      "cell_type": "code",
      "execution_count": 2,
      "metadata": {
        "colab": {
          "base_uri": "https://localhost:8080/"
        },
        "id": "In2Xy3x71V7N",
        "outputId": "529833c3-d3b6-46fd-c07f-ed9624248419"
      },
      "outputs": [
        {
          "output_type": "stream",
          "name": "stdout",
          "text": [
            "['saiufdhasdj@gmail.com , sadkjfsaljk@yahull.com.br']\n"
          ]
        }
      ],
      "source": [
        "import re\n",
        "\n",
        "txt = 'saiufdhasdj@gmail.com , sadkjfsaljk@yahull.com.br'\n",
        "\n",
        "x = re.findall(r'\\w+@\\w+[.].+', txt)\n",
        "\n",
        "print(x)\n"
      ]
    },
    {
      "cell_type": "markdown",
      "source": [
        "2) Crie uma RegEx para verificar se um CPF está no formato correto."
      ],
      "metadata": {
        "id": "yoKWPhT--eY1"
      }
    },
    {
      "cell_type": "code",
      "source": [
        "txt2 = '537.456.234-01'\n",
        "\n",
        "x = re.findall(r'^\\d{3}[.]\\d{3}[.]\\d{3}-\\d{2}$',txt2)\n",
        "\n",
        "print(x)"
      ],
      "metadata": {
        "colab": {
          "base_uri": "https://localhost:8080/"
        },
        "id": "cnLlOx7v4iQR",
        "outputId": "d57d8c88-b0cf-4773-c9d6-12a05df4cb23"
      },
      "execution_count": null,
      "outputs": [
        {
          "output_type": "stream",
          "name": "stdout",
          "text": [
            "['537.456.234-01']\n"
          ]
        }
      ]
    },
    {
      "cell_type": "markdown",
      "source": [
        "3) Verificar se data e hora estão no formato correto. O formato\n",
        "esperado é:\n",
        "a) dia/mes/ano hora:minuto:segundo\n",
        "\n"
      ],
      "metadata": {
        "id": "bSBypEUw7VuF"
      }
    },
    {
      "cell_type": "code",
      "source": [
        "data = '22/12/1998 12:22:45'\n",
        "\n",
        "x = re.findall(r'^\\d{2}/{1}\\d{2}/{1}\\d{4} \\d{2}[:]\\d{2}[:]\\d{2}',data)\n",
        "\n",
        "x"
      ],
      "metadata": {
        "colab": {
          "base_uri": "https://localhost:8080/"
        },
        "id": "fndl2RSD-vM7",
        "outputId": "4cf72ade-ae4b-4258-babd-5718eb51cbf5"
      },
      "execution_count": 5,
      "outputs": [
        {
          "output_type": "execute_result",
          "data": {
            "text/plain": [
              "['22/12/1998 12:22:45']"
            ]
          },
          "metadata": {},
          "execution_count": 5
        }
      ]
    },
    {
      "cell_type": "markdown",
      "source": [
        "4) Verificar se uma frase indica a idade de uma pessoa."
      ],
      "metadata": {
        "id": "syQtNE7P-WXi"
      }
    },
    {
      "cell_type": "code",
      "source": [
        "idade = 'tenho 433 anos de idade'\n",
        "\n",
        "x = re.findall(r'\\d.+anos',idade)\n",
        "\n",
        "x"
      ],
      "metadata": {
        "colab": {
          "base_uri": "https://localhost:8080/"
        },
        "id": "-YIxkDjO__Gv",
        "outputId": "b6c7cacd-c4c9-4616-84d0-42270929467a"
      },
      "execution_count": null,
      "outputs": [
        {
          "output_type": "execute_result",
          "data": {
            "text/plain": [
              "['433 anos']"
            ]
          },
          "metadata": {},
          "execution_count": 75
        }
      ]
    }
  ]
}