{
  "nbformat": 4,
  "nbformat_minor": 0,
  "metadata": {
    "colab": {
      "name": "atividade2semana2.ipynb",
      "provenance": [],
      "collapsed_sections": [],
      "authorship_tag": "ABX9TyMy7sdDhSB9LqprV/BO1/7t",
      "include_colab_link": true
    },
    "kernelspec": {
      "name": "python3",
      "display_name": "Python 3"
    },
    "language_info": {
      "name": "python"
    }
  },
  "cells": [
    {
      "cell_type": "markdown",
      "metadata": {
        "id": "view-in-github",
        "colab_type": "text"
      },
      "source": [
        "<a href=\"https://colab.research.google.com/github/MarcusPauloFaustino1/Exercicios-Growdev/blob/main/atividade2semana2.ipynb\" target=\"_parent\"><img src=\"https://colab.research.google.com/assets/colab-badge.svg\" alt=\"Open In Colab\"/></a>"
      ]
    },
    {
      "cell_type": "markdown",
      "source": [
        "# Ex 1\n",
        "**Qual a quantidade de pessoas nas seguintes faixas etárias** \n",
        "\n",
        "  - 20 anos ou menos\n",
        "  - 21 a 35 anos\n",
        "  - 36 a 50 anos\n",
        "  - 51 a 65 anos\n",
        "  - maiores de 65 anos"
      ],
      "metadata": {
        "id": "RkkD8ZMPJ9jF"
      }
    },
    {
      "cell_type": "code",
      "execution_count": 2,
      "metadata": {
        "id": "m_xZSlbtD3vg"
      },
      "outputs": [],
      "source": [
        "import pandas as pd \n",
        "\n",
        "data = pd.read_csv(\"dados.csv\")\n",
        "\n"
      ]
    },
    {
      "cell_type": "code",
      "source": [
        "data['Faixa_Etária'] = pd.cut(x=data['Idade'], bins=[0,20,35,50,65,200], labels=['<= 20','<= 35','<= 50','<= 65','> 65'])\n",
        "data_grupo = data.groupby('Faixa_Etária').count()\n",
        "data_grupo['Idade']"
      ],
      "metadata": {
        "colab": {
          "base_uri": "https://localhost:8080/"
        },
        "id": "jNYkwfo_D50D",
        "outputId": "46f83ce2-3ae2-4e3d-c782-a466941e1773"
      },
      "execution_count": 3,
      "outputs": [
        {
          "output_type": "execute_result",
          "data": {
            "text/plain": [
              "Faixa_Etária\n",
              "<= 20      764\n",
              "<= 35    20654\n",
              "<= 50    31770\n",
              "<= 65    20006\n",
              "> 65      3646\n",
              "Name: Idade, dtype: int64"
            ]
          },
          "metadata": {},
          "execution_count": 3
        }
      ]
    },
    {
      "cell_type": "markdown",
      "source": [
        "# Ex 2\n",
        "**Qual é a média de escolaridade em cada faixa etária?**"
      ],
      "metadata": {
        "id": "Pxq47R_WKT5v"
      }
    },
    {
      "cell_type": "code",
      "source": [
        "filter = data[data['Anos de Estudo'] != 17]\n",
        "\n",
        "#filter = data\n",
        "\n",
        "faixa_etaria = filter['Faixa_Etária'] = pd.cut(x=filter['Idade'], bins=[0,20,35,50,65,200], labels=['<= 20','<= 35','<= 50','<= 65','> 65'])\n",
        "\n",
        "media_escolaridade = filter.groupby('Faixa_Etária')['Anos de Estudo'].mean()\n",
        "\n",
        "print(media_escolaridade)\n",
        "\n"
      ],
      "metadata": {
        "colab": {
          "base_uri": "https://localhost:8080/"
        },
        "id": "acKZ2DsMD8nC",
        "outputId": "62702bef-49af-4bfa-8ca8-117c0c457ec7"
      },
      "execution_count": 4,
      "outputs": [
        {
          "output_type": "stream",
          "name": "stdout",
          "text": [
            "Faixa_Etária\n",
            "<= 20     9.627477\n",
            "<= 35    10.789356\n",
            "<= 50     9.747839\n",
            "<= 65     8.254205\n",
            "> 65      5.833105\n",
            "Name: Anos de Estudo, dtype: float64\n"
          ]
        },
        {
          "output_type": "stream",
          "name": "stderr",
          "text": [
            "/usr/local/lib/python3.7/dist-packages/ipykernel_launcher.py:5: SettingWithCopyWarning: \n",
            "A value is trying to be set on a copy of a slice from a DataFrame.\n",
            "Try using .loc[row_indexer,col_indexer] = value instead\n",
            "\n",
            "See the caveats in the documentation: https://pandas.pydata.org/pandas-docs/stable/user_guide/indexing.html#returning-a-view-versus-a-copy\n",
            "  \"\"\"\n"
          ]
        }
      ]
    },
    {
      "cell_type": "markdown",
      "source": [
        "# Ex 3\n",
        "**Qual a UF que concentra a maior renda?**"
      ],
      "metadata": {
        "id": "X5uMEBNhKhxi"
      }
    },
    {
      "cell_type": "code",
      "source": [
        "renda = data.groupby('UF')['Renda'].sum()\n",
        "\n",
        "print(f'A UF com maior renda é: {renda.idxmax()}\\nCom renda acumulada de: R$ {renda.max():,.2f}')"
      ],
      "metadata": {
        "colab": {
          "base_uri": "https://localhost:8080/"
        },
        "id": "3frrksT8D-8e",
        "outputId": "ca08dddf-5fde-43c1-b0b2-1ea377242043"
      },
      "execution_count": 5,
      "outputs": [
        {
          "output_type": "stream",
          "name": "stdout",
          "text": [
            "A UF com maior renda é: 35\n",
            "Com renda acumulada de: R$ 22,539,969.00\n"
          ]
        }
      ]
    },
    {
      "cell_type": "markdown",
      "source": [
        "# Ex 4\n",
        "**Qual a renda média de pessoas pretas e brancas de homens e mulheres?**"
      ],
      "metadata": {
        "id": "CikslB6pKrVp"
      }
    },
    {
      "cell_type": "code",
      "source": [
        "cores = data.query('Cor == 2 | Cor == 4')\n",
        "renda_sexo_por_cor = cores.groupby(['Cor','Sexo']).mean()\n",
        "print(renda_sexo_por_cor[['Renda']])"
      ],
      "metadata": {
        "colab": {
          "base_uri": "https://localhost:8080/"
        },
        "id": "Xr3RDr2rECL5",
        "outputId": "cee0d5dd-c2c5-4352-f906-66c72fe24da5"
      },
      "execution_count": 6,
      "outputs": [
        {
          "output_type": "stream",
          "name": "stdout",
          "text": [
            "                Renda\n",
            "Cor Sexo             \n",
            "2   0     2925.744435\n",
            "    1     2109.866750\n",
            "4   0     1603.861687\n",
            "    1     1134.596400\n"
          ]
        }
      ]
    },
    {
      "cell_type": "markdown",
      "source": [
        "# Ex 5\n",
        "**Qual a renda média concentrada em cada faixa etária?**"
      ],
      "metadata": {
        "id": "vQOS3nnDKzgO"
      }
    },
    {
      "cell_type": "code",
      "source": [
        "media_renda = data.groupby('Faixa_Etária')['Renda'].mean()\n",
        "\n",
        "print(media_renda)"
      ],
      "metadata": {
        "colab": {
          "base_uri": "https://localhost:8080/"
        },
        "id": "_kAFHv2KEE2W",
        "outputId": "4e62230f-d7b2-4153-b6cf-264386f3e6d9"
      },
      "execution_count": 7,
      "outputs": [
        {
          "output_type": "stream",
          "name": "stdout",
          "text": [
            "Faixa_Etária\n",
            "<= 20     985.348168\n",
            "<= 35    1748.286143\n",
            "<= 50    2113.756091\n",
            "<= 65    2150.196741\n",
            "> 65     1831.231487\n",
            "Name: Renda, dtype: float64\n"
          ]
        }
      ]
    },
    {
      "cell_type": "markdown",
      "source": [
        "# Ex 6\n",
        "**Qual a renda média nas faixas de anos de estudo abaixo?**\n",
        "\n",
        "  - 2 anos ou menos\n",
        "  - 3 a 6 anos\n",
        "  - 7 a 10 anos\n",
        "  - 10 a 12 anos\n",
        "  - 13 anos ou mais"
      ],
      "metadata": {
        "id": "u9g_p5PlK-qB"
      }
    },
    {
      "cell_type": "code",
      "source": [
        "faixa_renda = data['Faixa_Renda'] = pd.cut(x=filter['Anos de Estudo'], bins=[0,2,6,10,12,15], labels=['<= 2','<= 6','<= 10','<= 12','> 15'])\n",
        "\n",
        "media_renda = data.groupby('Faixa_Renda')['Renda'].mean()\n",
        "\n",
        "media_renda"
      ],
      "metadata": {
        "colab": {
          "base_uri": "https://localhost:8080/"
        },
        "id": "anMgW6NaEKLj",
        "outputId": "273963cd-3390-476a-be6e-a49d76583726"
      },
      "execution_count": 8,
      "outputs": [
        {
          "output_type": "execute_result",
          "data": {
            "text/plain": [
              "Faixa_Renda\n",
              "<= 2      747.096725\n",
              "<= 6     1089.379778\n",
              "<= 10    1370.885114\n",
              "<= 12    1809.783245\n",
              "> 15     2629.527362\n",
              "Name: Renda, dtype: float64"
            ]
          },
          "metadata": {},
          "execution_count": 8
        }
      ]
    },
    {
      "cell_type": "markdown",
      "source": [
        "# Ex 7\n",
        "**Qual a maior escolaridade entre indígenas, para homens e mulheres?**"
      ],
      "metadata": {
        "id": "l_C5s3MxLPWb"
      }
    },
    {
      "cell_type": "code",
      "source": [
        "data_indigenas = data.query('Cor == 0')\n",
        "data_filter = data_indigenas[data_indigenas['Anos de Estudo'] != 17]\n",
        "\n",
        "\n",
        "max_escolaridade = data_filter.groupby('Sexo').max()\n",
        "max_escolaridade\n",
        "\n"
      ],
      "metadata": {
        "colab": {
          "base_uri": "https://localhost:8080/",
          "height": 143
        },
        "id": "QBFr91APe60A",
        "outputId": "91fc4ab3-d28d-4800-850e-be3217be08a6"
      },
      "execution_count": 9,
      "outputs": [
        {
          "output_type": "execute_result",
          "data": {
            "text/plain": [
              "      UF  Idade  Cor  Anos de Estudo   Renda    Altura Faixa_Etária  \\\n",
              "Sexo                                                                  \n",
              "0     53     97    0              16   10000  1.918412         > 65   \n",
              "1     53     79    0              16  120000  1.937588         > 65   \n",
              "\n",
              "     Faixa_Renda  \n",
              "Sexo              \n",
              "0           > 15  \n",
              "1           > 15  "
            ],
            "text/html": [
              "\n",
              "  <div id=\"df-9f1ccfe2-90d2-42dc-b780-aeefd592d5f8\">\n",
              "    <div class=\"colab-df-container\">\n",
              "      <div>\n",
              "<style scoped>\n",
              "    .dataframe tbody tr th:only-of-type {\n",
              "        vertical-align: middle;\n",
              "    }\n",
              "\n",
              "    .dataframe tbody tr th {\n",
              "        vertical-align: top;\n",
              "    }\n",
              "\n",
              "    .dataframe thead th {\n",
              "        text-align: right;\n",
              "    }\n",
              "</style>\n",
              "<table border=\"1\" class=\"dataframe\">\n",
              "  <thead>\n",
              "    <tr style=\"text-align: right;\">\n",
              "      <th></th>\n",
              "      <th>UF</th>\n",
              "      <th>Idade</th>\n",
              "      <th>Cor</th>\n",
              "      <th>Anos de Estudo</th>\n",
              "      <th>Renda</th>\n",
              "      <th>Altura</th>\n",
              "      <th>Faixa_Etária</th>\n",
              "      <th>Faixa_Renda</th>\n",
              "    </tr>\n",
              "    <tr>\n",
              "      <th>Sexo</th>\n",
              "      <th></th>\n",
              "      <th></th>\n",
              "      <th></th>\n",
              "      <th></th>\n",
              "      <th></th>\n",
              "      <th></th>\n",
              "      <th></th>\n",
              "      <th></th>\n",
              "    </tr>\n",
              "  </thead>\n",
              "  <tbody>\n",
              "    <tr>\n",
              "      <th>0</th>\n",
              "      <td>53</td>\n",
              "      <td>97</td>\n",
              "      <td>0</td>\n",
              "      <td>16</td>\n",
              "      <td>10000</td>\n",
              "      <td>1.918412</td>\n",
              "      <td>&gt; 65</td>\n",
              "      <td>&gt; 15</td>\n",
              "    </tr>\n",
              "    <tr>\n",
              "      <th>1</th>\n",
              "      <td>53</td>\n",
              "      <td>79</td>\n",
              "      <td>0</td>\n",
              "      <td>16</td>\n",
              "      <td>120000</td>\n",
              "      <td>1.937588</td>\n",
              "      <td>&gt; 65</td>\n",
              "      <td>&gt; 15</td>\n",
              "    </tr>\n",
              "  </tbody>\n",
              "</table>\n",
              "</div>\n",
              "      <button class=\"colab-df-convert\" onclick=\"convertToInteractive('df-9f1ccfe2-90d2-42dc-b780-aeefd592d5f8')\"\n",
              "              title=\"Convert this dataframe to an interactive table.\"\n",
              "              style=\"display:none;\">\n",
              "        \n",
              "  <svg xmlns=\"http://www.w3.org/2000/svg\" height=\"24px\"viewBox=\"0 0 24 24\"\n",
              "       width=\"24px\">\n",
              "    <path d=\"M0 0h24v24H0V0z\" fill=\"none\"/>\n",
              "    <path d=\"M18.56 5.44l.94 2.06.94-2.06 2.06-.94-2.06-.94-.94-2.06-.94 2.06-2.06.94zm-11 1L8.5 8.5l.94-2.06 2.06-.94-2.06-.94L8.5 2.5l-.94 2.06-2.06.94zm10 10l.94 2.06.94-2.06 2.06-.94-2.06-.94-.94-2.06-.94 2.06-2.06.94z\"/><path d=\"M17.41 7.96l-1.37-1.37c-.4-.4-.92-.59-1.43-.59-.52 0-1.04.2-1.43.59L10.3 9.45l-7.72 7.72c-.78.78-.78 2.05 0 2.83L4 21.41c.39.39.9.59 1.41.59.51 0 1.02-.2 1.41-.59l7.78-7.78 2.81-2.81c.8-.78.8-2.07 0-2.86zM5.41 20L4 18.59l7.72-7.72 1.47 1.35L5.41 20z\"/>\n",
              "  </svg>\n",
              "      </button>\n",
              "      \n",
              "  <style>\n",
              "    .colab-df-container {\n",
              "      display:flex;\n",
              "      flex-wrap:wrap;\n",
              "      gap: 12px;\n",
              "    }\n",
              "\n",
              "    .colab-df-convert {\n",
              "      background-color: #E8F0FE;\n",
              "      border: none;\n",
              "      border-radius: 50%;\n",
              "      cursor: pointer;\n",
              "      display: none;\n",
              "      fill: #1967D2;\n",
              "      height: 32px;\n",
              "      padding: 0 0 0 0;\n",
              "      width: 32px;\n",
              "    }\n",
              "\n",
              "    .colab-df-convert:hover {\n",
              "      background-color: #E2EBFA;\n",
              "      box-shadow: 0px 1px 2px rgba(60, 64, 67, 0.3), 0px 1px 3px 1px rgba(60, 64, 67, 0.15);\n",
              "      fill: #174EA6;\n",
              "    }\n",
              "\n",
              "    [theme=dark] .colab-df-convert {\n",
              "      background-color: #3B4455;\n",
              "      fill: #D2E3FC;\n",
              "    }\n",
              "\n",
              "    [theme=dark] .colab-df-convert:hover {\n",
              "      background-color: #434B5C;\n",
              "      box-shadow: 0px 1px 3px 1px rgba(0, 0, 0, 0.15);\n",
              "      filter: drop-shadow(0px 1px 2px rgba(0, 0, 0, 0.3));\n",
              "      fill: #FFFFFF;\n",
              "    }\n",
              "  </style>\n",
              "\n",
              "      <script>\n",
              "        const buttonEl =\n",
              "          document.querySelector('#df-9f1ccfe2-90d2-42dc-b780-aeefd592d5f8 button.colab-df-convert');\n",
              "        buttonEl.style.display =\n",
              "          google.colab.kernel.accessAllowed ? 'block' : 'none';\n",
              "\n",
              "        async function convertToInteractive(key) {\n",
              "          const element = document.querySelector('#df-9f1ccfe2-90d2-42dc-b780-aeefd592d5f8');\n",
              "          const dataTable =\n",
              "            await google.colab.kernel.invokeFunction('convertToInteractive',\n",
              "                                                     [key], {});\n",
              "          if (!dataTable) return;\n",
              "\n",
              "          const docLinkHtml = 'Like what you see? Visit the ' +\n",
              "            '<a target=\"_blank\" href=https://colab.research.google.com/notebooks/data_table.ipynb>data table notebook</a>'\n",
              "            + ' to learn more about interactive tables.';\n",
              "          element.innerHTML = '';\n",
              "          dataTable['output_type'] = 'display_data';\n",
              "          await google.colab.output.renderOutput(dataTable, element);\n",
              "          const docLink = document.createElement('div');\n",
              "          docLink.innerHTML = docLinkHtml;\n",
              "          element.appendChild(docLink);\n",
              "        }\n",
              "      </script>\n",
              "    </div>\n",
              "  </div>\n",
              "  "
            ]
          },
          "metadata": {},
          "execution_count": 9
        }
      ]
    },
    {
      "cell_type": "markdown",
      "source": [
        "# Ex 8\n",
        "**Qual a média de anos de estudo entre brancos e negros?**"
      ],
      "metadata": {
        "id": "rE6GtxiiLc-A"
      }
    },
    {
      "cell_type": "code",
      "source": [
        "white_data = data.query('Cor == 2')\n",
        "black_data = data.query('Cor == 4')\n",
        "\n",
        "\n",
        "white_mean = white_data[white_data['Anos de Estudo'] != 17]\n",
        "\n",
        "black_mean = black_data[black_data['Anos de Estudo'] != 17]\n",
        "\n",
        "print(f\"Média de escolaridade entre brancos: {white_mean['Anos de Estudo'].mean():.3f}\")\n",
        "print(f\"Média de escolaridade entre pretos: {black_mean['Anos de Estudo'].mean():.3f}\")\n"
      ],
      "metadata": {
        "colab": {
          "base_uri": "https://localhost:8080/"
        },
        "id": "cjGSY0G5hxa4",
        "outputId": "d7074a48-c87b-401c-e023-f06ece1804ec"
      },
      "execution_count": 10,
      "outputs": [
        {
          "output_type": "stream",
          "name": "stdout",
          "text": [
            "Média de escolaridade entre brancos: 10.478\n",
            "Média de escolaridade entre pretos: 8.841\n"
          ]
        }
      ]
    },
    {
      "cell_type": "markdown",
      "source": [
        "# Ex 9\n",
        "**Qual a média de anos de estudo e de renda para mulheres brancas, e para mulheres negras?**"
      ],
      "metadata": {
        "id": "PqNV_fwNLj0e"
      }
    },
    {
      "cell_type": "code",
      "source": [
        "from numpy.ma.core import mean\n",
        "white_data = data.query('Cor == 2')\n",
        "black_data = data.query('Cor == 4')\n",
        "\n",
        "female_white = white_data.query('Sexo == 1')\n",
        "female_black = black_data.query('Sexo == 1')\n",
        "\n",
        "filter_white = female_black[female_black['Anos de Estudo'] != 17]\n",
        "filter_black = female_white[female_white['Anos de Estudo'] != 17]\n",
        "\n",
        "mean_white = filter_white[['Anos de Estudo','Renda']].mean()\n",
        "mean_black = filter_black[['Anos de Estudo','Renda']].mean()\n",
        "\n",
        "print(f'A média de estudos e de renda entre mulheres brancas é:\\n{mean_white}')\n",
        "print(f'\\n\\nA média de estudos e de renda entre mulheres pretas é:\\n{mean_black}')"
      ],
      "metadata": {
        "colab": {
          "base_uri": "https://localhost:8080/"
        },
        "id": "t-5FbFwAkr5-",
        "outputId": "936ee4fe-2684-4212-eb35-fa71d87adcf2"
      },
      "execution_count": 11,
      "outputs": [
        {
          "output_type": "stream",
          "name": "stdout",
          "text": [
            "A média de estudos e de renda entre mulheres brancas é:\n",
            "Anos de Estudo       9.491137\n",
            "Renda             1135.295099\n",
            "dtype: float64\n",
            "\n",
            "\n",
            "A média de estudos e de renda entre mulheres pretas é:\n",
            "Anos de Estudo      11.281530\n",
            "Renda             2113.402126\n",
            "dtype: float64\n"
          ]
        }
      ]
    },
    {
      "cell_type": "markdown",
      "source": [
        "# Ex 10\n",
        "**Qual é a UF com maior média de escolaridade e qual a UF com maior média de renda?**"
      ],
      "metadata": {
        "id": "BehBtYOPLtVJ"
      }
    },
    {
      "cell_type": "code",
      "source": [
        "grouped_data = data.groupby('UF').mean()\n",
        "\n",
        "data_filter = data[data['Anos de Estudo'] != 17]\n",
        "\n",
        "grouped_data_filtered = data_filter.groupby('UF').mean()\n",
        "\n",
        "print(f\"A UF com maior média de escolaridade é: {grouped_data_filtered['Anos de Estudo'].idxmax()}\")\n",
        "print(f\"A UF com maior média de renda é: {grouped_data['Renda'].idxmax()}\")\n"
      ],
      "metadata": {
        "colab": {
          "base_uri": "https://localhost:8080/"
        },
        "id": "tek1QtXVoKGE",
        "outputId": "ee3cb37e-d9c6-4aac-e218-5128c362ee0a"
      },
      "execution_count": 12,
      "outputs": [
        {
          "output_type": "stream",
          "name": "stdout",
          "text": [
            "A UF com maior média de escolaridade é: 53\n",
            "A UF com maior média de renda é: 53\n"
          ]
        }
      ]
    },
    {
      "cell_type": "markdown",
      "source": [
        "# Ex 11\n",
        "**Elabore você uma pergunta sobre a base de dados e escreva o código para responder a pergunta.**"
      ],
      "metadata": {
        "id": "uGGgxEIZMpCF"
      }
    },
    {
      "cell_type": "code",
      "source": [
        "#Qual é a média de altura entre as UFs, qual é a UF mais alta e sua altura média. E qual é a mais baixa e sua altura média?\n",
        "\n",
        "alturas = data.groupby('UF')['Altura'].mean()\n",
        "\n",
        "print(f'A média de altura entre as UFs é {alturas.mean()}')\n",
        "print(f'A UF com maior média de altura é: {alturas.idxmax()}')\n",
        "print(f'A média de altura de {alturas.idxmax()} é: {alturas.max()}')\n",
        "print(f'A UF com menor média de altura é: {alturas.idxmin()}')\n",
        "print(f'A média de altura de {alturas.idxmin()} é: {alturas.min()}')\n",
        "\n"
      ],
      "metadata": {
        "colab": {
          "base_uri": "https://localhost:8080/"
        },
        "id": "6bZ9b7VqENLi",
        "outputId": "7b34c220-839a-41e9-9405-a3168ef44c36"
      },
      "execution_count": 13,
      "outputs": [
        {
          "output_type": "stream",
          "name": "stdout",
          "text": [
            "A média de altura entre as UFs é 1.6995090358865843\n",
            "A UF com maior média de altura é: 11\n",
            "A média de altura de 11 é: 1.7039666570058556\n",
            "A UF com menor média de altura é: 27\n",
            "A média de altura de 27 é: 1.6939066026423033\n"
          ]
        }
      ]
    }
  ]
}