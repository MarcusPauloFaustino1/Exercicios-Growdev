{
  "nbformat": 4,
  "nbformat_minor": 0,
  "metadata": {
    "colab": {
      "provenance": [],
      "authorship_tag": "ABX9TyPG/fW5XDhHt2DDmglo9OF2",
      "include_colab_link": true
    },
    "kernelspec": {
      "name": "python3",
      "display_name": "Python 3"
    },
    "language_info": {
      "name": "python"
    }
  },
  "cells": [
    {
      "cell_type": "markdown",
      "metadata": {
        "id": "view-in-github",
        "colab_type": "text"
      },
      "source": [
        "<a href=\"https://colab.research.google.com/github/MarcusPauloFaustino1/Exercicios-Growdev/blob/main/atividade1_estatistica2.ipynb\" target=\"_parent\"><img src=\"https://colab.research.google.com/assets/colab-badge.svg\" alt=\"Open In Colab\"/></a>"
      ]
    },
    {
      "cell_type": "markdown",
      "source": [
        "# Baixe o arquivo dados do consumidor 2017 disponível aqui e calcule algumas medidas descritivas."
      ],
      "metadata": {
        "id": "rGCQ9yo0R47t"
      }
    },
    {
      "cell_type": "code",
      "execution_count": 3,
      "metadata": {
        "id": "ANdh5EsVMlr9"
      },
      "outputs": [],
      "source": [
        "import statistics as st\n",
        "import numpy as np\n",
        "import pandas as pd\n",
        "\n",
        "dados = pd.read_csv('/content/dadosgovbr---2017.csv', sep=';', encoding='latin-1')\n",
        "\n",
        "dados.isnull()\n",
        "\n",
        "dados = dados.dropna()"
      ]
    },
    {
      "cell_type": "markdown",
      "source": [
        "## 1) apresente as medidas de posição e de tendência central das variáveis quantitativas"
      ],
      "metadata": {
        "id": "TGAlEXdfRwfy"
      }
    },
    {
      "cell_type": "code",
      "source": [
        "display(dados.describe())"
      ],
      "metadata": {
        "colab": {
          "base_uri": "https://localhost:8080/",
          "height": 300
        },
        "id": "4MGxVUYMMv_G",
        "outputId": "7b9eefc1-ddd5-491d-9995-3f3c79a9cc48"
      },
      "execution_count": 4,
      "outputs": [
        {
          "output_type": "display_data",
          "data": {
            "text/plain": [
              "       Ano Abertura  Mês Abertura  Prazo Analise Gestor  Tempo Resposta  \\\n",
              "count         150.0    150.000000            150.000000      150.000000   \n",
              "mean         2017.0      1.353333              3.753333        8.020000   \n",
              "std             0.0      0.479606              3.270648        2.680954   \n",
              "min          2017.0      1.000000              0.000000        0.000000   \n",
              "25%          2017.0      1.000000              1.000000        7.000000   \n",
              "50%          2017.0      1.000000              3.000000        9.000000   \n",
              "75%          2017.0      2.000000              6.000000       10.000000   \n",
              "max          2017.0      2.000000             13.000000       10.000000   \n",
              "\n",
              "       Nota do Consumidor  Total  \n",
              "count          150.000000  150.0  \n",
              "mean             2.393333    1.0  \n",
              "std              1.682506    0.0  \n",
              "min              1.000000    1.0  \n",
              "25%              1.000000    1.0  \n",
              "50%              1.000000    1.0  \n",
              "75%              4.000000    1.0  \n",
              "max              5.000000    1.0  "
            ],
            "text/html": [
              "\n",
              "  <div id=\"df-a3a01478-dc72-4ea2-ae46-24130752602d\">\n",
              "    <div class=\"colab-df-container\">\n",
              "      <div>\n",
              "<style scoped>\n",
              "    .dataframe tbody tr th:only-of-type {\n",
              "        vertical-align: middle;\n",
              "    }\n",
              "\n",
              "    .dataframe tbody tr th {\n",
              "        vertical-align: top;\n",
              "    }\n",
              "\n",
              "    .dataframe thead th {\n",
              "        text-align: right;\n",
              "    }\n",
              "</style>\n",
              "<table border=\"1\" class=\"dataframe\">\n",
              "  <thead>\n",
              "    <tr style=\"text-align: right;\">\n",
              "      <th></th>\n",
              "      <th>Ano Abertura</th>\n",
              "      <th>Mês Abertura</th>\n",
              "      <th>Prazo Analise Gestor</th>\n",
              "      <th>Tempo Resposta</th>\n",
              "      <th>Nota do Consumidor</th>\n",
              "      <th>Total</th>\n",
              "    </tr>\n",
              "  </thead>\n",
              "  <tbody>\n",
              "    <tr>\n",
              "      <th>count</th>\n",
              "      <td>150.0</td>\n",
              "      <td>150.000000</td>\n",
              "      <td>150.000000</td>\n",
              "      <td>150.000000</td>\n",
              "      <td>150.000000</td>\n",
              "      <td>150.0</td>\n",
              "    </tr>\n",
              "    <tr>\n",
              "      <th>mean</th>\n",
              "      <td>2017.0</td>\n",
              "      <td>1.353333</td>\n",
              "      <td>3.753333</td>\n",
              "      <td>8.020000</td>\n",
              "      <td>2.393333</td>\n",
              "      <td>1.0</td>\n",
              "    </tr>\n",
              "    <tr>\n",
              "      <th>std</th>\n",
              "      <td>0.0</td>\n",
              "      <td>0.479606</td>\n",
              "      <td>3.270648</td>\n",
              "      <td>2.680954</td>\n",
              "      <td>1.682506</td>\n",
              "      <td>0.0</td>\n",
              "    </tr>\n",
              "    <tr>\n",
              "      <th>min</th>\n",
              "      <td>2017.0</td>\n",
              "      <td>1.000000</td>\n",
              "      <td>0.000000</td>\n",
              "      <td>0.000000</td>\n",
              "      <td>1.000000</td>\n",
              "      <td>1.0</td>\n",
              "    </tr>\n",
              "    <tr>\n",
              "      <th>25%</th>\n",
              "      <td>2017.0</td>\n",
              "      <td>1.000000</td>\n",
              "      <td>1.000000</td>\n",
              "      <td>7.000000</td>\n",
              "      <td>1.000000</td>\n",
              "      <td>1.0</td>\n",
              "    </tr>\n",
              "    <tr>\n",
              "      <th>50%</th>\n",
              "      <td>2017.0</td>\n",
              "      <td>1.000000</td>\n",
              "      <td>3.000000</td>\n",
              "      <td>9.000000</td>\n",
              "      <td>1.000000</td>\n",
              "      <td>1.0</td>\n",
              "    </tr>\n",
              "    <tr>\n",
              "      <th>75%</th>\n",
              "      <td>2017.0</td>\n",
              "      <td>2.000000</td>\n",
              "      <td>6.000000</td>\n",
              "      <td>10.000000</td>\n",
              "      <td>4.000000</td>\n",
              "      <td>1.0</td>\n",
              "    </tr>\n",
              "    <tr>\n",
              "      <th>max</th>\n",
              "      <td>2017.0</td>\n",
              "      <td>2.000000</td>\n",
              "      <td>13.000000</td>\n",
              "      <td>10.000000</td>\n",
              "      <td>5.000000</td>\n",
              "      <td>1.0</td>\n",
              "    </tr>\n",
              "  </tbody>\n",
              "</table>\n",
              "</div>\n",
              "      <button class=\"colab-df-convert\" onclick=\"convertToInteractive('df-a3a01478-dc72-4ea2-ae46-24130752602d')\"\n",
              "              title=\"Convert this dataframe to an interactive table.\"\n",
              "              style=\"display:none;\">\n",
              "        \n",
              "  <svg xmlns=\"http://www.w3.org/2000/svg\" height=\"24px\"viewBox=\"0 0 24 24\"\n",
              "       width=\"24px\">\n",
              "    <path d=\"M0 0h24v24H0V0z\" fill=\"none\"/>\n",
              "    <path d=\"M18.56 5.44l.94 2.06.94-2.06 2.06-.94-2.06-.94-.94-2.06-.94 2.06-2.06.94zm-11 1L8.5 8.5l.94-2.06 2.06-.94-2.06-.94L8.5 2.5l-.94 2.06-2.06.94zm10 10l.94 2.06.94-2.06 2.06-.94-2.06-.94-.94-2.06-.94 2.06-2.06.94z\"/><path d=\"M17.41 7.96l-1.37-1.37c-.4-.4-.92-.59-1.43-.59-.52 0-1.04.2-1.43.59L10.3 9.45l-7.72 7.72c-.78.78-.78 2.05 0 2.83L4 21.41c.39.39.9.59 1.41.59.51 0 1.02-.2 1.41-.59l7.78-7.78 2.81-2.81c.8-.78.8-2.07 0-2.86zM5.41 20L4 18.59l7.72-7.72 1.47 1.35L5.41 20z\"/>\n",
              "  </svg>\n",
              "      </button>\n",
              "      \n",
              "  <style>\n",
              "    .colab-df-container {\n",
              "      display:flex;\n",
              "      flex-wrap:wrap;\n",
              "      gap: 12px;\n",
              "    }\n",
              "\n",
              "    .colab-df-convert {\n",
              "      background-color: #E8F0FE;\n",
              "      border: none;\n",
              "      border-radius: 50%;\n",
              "      cursor: pointer;\n",
              "      display: none;\n",
              "      fill: #1967D2;\n",
              "      height: 32px;\n",
              "      padding: 0 0 0 0;\n",
              "      width: 32px;\n",
              "    }\n",
              "\n",
              "    .colab-df-convert:hover {\n",
              "      background-color: #E2EBFA;\n",
              "      box-shadow: 0px 1px 2px rgba(60, 64, 67, 0.3), 0px 1px 3px 1px rgba(60, 64, 67, 0.15);\n",
              "      fill: #174EA6;\n",
              "    }\n",
              "\n",
              "    [theme=dark] .colab-df-convert {\n",
              "      background-color: #3B4455;\n",
              "      fill: #D2E3FC;\n",
              "    }\n",
              "\n",
              "    [theme=dark] .colab-df-convert:hover {\n",
              "      background-color: #434B5C;\n",
              "      box-shadow: 0px 1px 3px 1px rgba(0, 0, 0, 0.15);\n",
              "      filter: drop-shadow(0px 1px 2px rgba(0, 0, 0, 0.3));\n",
              "      fill: #FFFFFF;\n",
              "    }\n",
              "  </style>\n",
              "\n",
              "      <script>\n",
              "        const buttonEl =\n",
              "          document.querySelector('#df-a3a01478-dc72-4ea2-ae46-24130752602d button.colab-df-convert');\n",
              "        buttonEl.style.display =\n",
              "          google.colab.kernel.accessAllowed ? 'block' : 'none';\n",
              "\n",
              "        async function convertToInteractive(key) {\n",
              "          const element = document.querySelector('#df-a3a01478-dc72-4ea2-ae46-24130752602d');\n",
              "          const dataTable =\n",
              "            await google.colab.kernel.invokeFunction('convertToInteractive',\n",
              "                                                     [key], {});\n",
              "          if (!dataTable) return;\n",
              "\n",
              "          const docLinkHtml = 'Like what you see? Visit the ' +\n",
              "            '<a target=\"_blank\" href=https://colab.research.google.com/notebooks/data_table.ipynb>data table notebook</a>'\n",
              "            + ' to learn more about interactive tables.';\n",
              "          element.innerHTML = '';\n",
              "          dataTable['output_type'] = 'display_data';\n",
              "          await google.colab.output.renderOutput(dataTable, element);\n",
              "          const docLink = document.createElement('div');\n",
              "          docLink.innerHTML = docLinkHtml;\n",
              "          element.appendChild(docLink);\n",
              "        }\n",
              "      </script>\n",
              "    </div>\n",
              "  </div>\n",
              "  "
            ]
          },
          "metadata": {}
        }
      ]
    },
    {
      "cell_type": "markdown",
      "source": [
        "## 2) calcule média e desvio padrão da variável nota por UF"
      ],
      "metadata": {
        "id": "GbY07rx7Rrnx"
      }
    },
    {
      "cell_type": "code",
      "source": [
        "media_notas_consumidores = np.mean(dados['Nota do Consumidor'])\n",
        "mediana_notas_consumidores = np.median(dados['Nota do Consumidor'])\n",
        "moda_notas_consumidores = st.mode(dados['Nota do Consumidor'])\n",
        "desvio_padrao_notas_consumidores = np.std(dados['Nota do Consumidor'])\n",
        "\n",
        "uf = dados.groupby('UF')['Nota do Consumidor'].mean()\n",
        "uf2 = dados.groupby('UF')['Nota do Consumidor'].std()\n",
        "\n",
        "print(f'Média de notas dos consumidores: {media_notas_consumidores:.3f}')\n",
        "print(f'Mediana de notas dos consumidores: {mediana_notas_consumidores}')\n",
        "print(f'Moda de notas dos consumidores: {moda_notas_consumidores}')\n",
        "print(f'Desvio padrão de notas dos consumidores: {desvio_padrao_notas_consumidores}')\n",
        "\n",
        "\n"
      ],
      "metadata": {
        "colab": {
          "base_uri": "https://localhost:8080/"
        },
        "id": "jOTn5HPuMqI_",
        "outputId": "d606d10e-8eca-47aa-ac8f-283f6b5cb56d"
      },
      "execution_count": 5,
      "outputs": [
        {
          "output_type": "stream",
          "name": "stdout",
          "text": [
            "Média de notas dos consumidores: 2.393\n",
            "Mediana de notas dos consumidores: 1.0\n",
            "Moda de notas dos consumidores: 1.0\n",
            "Desvio padrão de notas dos consumidores: 1.6768886532968\n"
          ]
        }
      ]
    },
    {
      "cell_type": "markdown",
      "source": [
        "## 3) calcule a média e o desvio padrão para a variável Tempo Resposta\n",
        "por mês de abertura."
      ],
      "metadata": {
        "id": "9nwKvZ62Rj6C"
      }
    },
    {
      "cell_type": "code",
      "source": [
        "tr_media = dados.groupby('Mês Abertura')['Tempo Resposta'].mean()\n",
        "\n",
        "tr_desvio_padrao = dados.groupby('Mês Abertura')['Tempo Resposta'].std()\n",
        "\n",
        "print(f'Media do Tempo Resposta por {tr_media}')\n",
        "\n",
        "print(f'\\n\\nDesvio Padrão do Tempo Resposta por {tr_desvio_padrao}')\n"
      ],
      "metadata": {
        "colab": {
          "base_uri": "https://localhost:8080/"
        },
        "id": "JIH9x9gWN66T",
        "outputId": "54263a1c-28c6-434e-f8ad-1cd8c4f0d069"
      },
      "execution_count": 9,
      "outputs": [
        {
          "output_type": "stream",
          "name": "stdout",
          "text": [
            "Media do Tempo Resposta por Mês Abertura\n",
            "1    7.721649\n",
            "2    8.566038\n",
            "Name: Tempo Resposta, dtype: float64\n",
            "\n",
            "\n",
            "Desvio Padrão do Tempo Resposta por Mês Abertura\n",
            "1    2.760368\n",
            "2    2.461312\n",
            "Name: Tempo Resposta, dtype: float64\n"
          ]
        }
      ]
    },
    {
      "cell_type": "markdown",
      "source": [
        "## 4) Proporção de reclamações registradas e não respondidas."
      ],
      "metadata": {
        "id": "4W3A8Un6Rb1w"
      }
    },
    {
      "cell_type": "code",
      "source": [
        "reclamacoes = dados.groupby('Avaliação Reclamação')['Total'].count()\n",
        "total_reclamacoes = np.size(dados['Avaliação Reclamação'])\n",
        "\n",
        "print(f'Total de reclamações: {total_reclamacoes}')\n",
        "print(reclamacoes)"
      ],
      "metadata": {
        "colab": {
          "base_uri": "https://localhost:8080/"
        },
        "id": "ylFsl7MGOLEC",
        "outputId": "984b63bf-93b7-4ddd-80ae-6e1dddd3b224"
      },
      "execution_count": 22,
      "outputs": [
        {
          "output_type": "stream",
          "name": "stdout",
          "text": [
            "Total de reclamações: 150\n",
            "Avaliação Reclamação\n",
            "Não Resolvida    83\n",
            "Resolvida        67\n",
            "Name: Total, dtype: int64\n"
          ]
        }
      ]
    }
  ]
}