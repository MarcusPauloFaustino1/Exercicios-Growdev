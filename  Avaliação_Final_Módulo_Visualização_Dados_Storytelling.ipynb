{
  "nbformat": 4,
  "nbformat_minor": 0,
  "metadata": {
    "colab": {
      "provenance": [],
      "authorship_tag": "ABX9TyOputEz8Ru20qmhy0RIZePc",
      "include_colab_link": true
    },
    "kernelspec": {
      "name": "python3",
      "display_name": "Python 3"
    },
    "language_info": {
      "name": "python"
    }
  },
  "cells": [
    {
      "cell_type": "markdown",
      "metadata": {
        "id": "view-in-github",
        "colab_type": "text"
      },
      "source": [
        "<a href=\"https://colab.research.google.com/github/MarcusPauloFaustino1/Exercicios-Growdev/blob/main/%20Avalia%C3%A7%C3%A3o_Final_M%C3%B3dulo_Visualiza%C3%A7%C3%A3o_Dados_Storytelling.ipynb\" target=\"_parent\"><img src=\"https://colab.research.google.com/assets/colab-badge.svg\" alt=\"Open In Colab\"/></a>"
      ]
    },
    {
      "cell_type": "markdown",
      "source": [
        "# **Criação de visual utilizando Python + Plotly**"
      ],
      "metadata": {
        "id": "QpThg5R6dz3M"
      }
    },
    {
      "cell_type": "markdown",
      "source": [
        "### Impotações e leitura de csv"
      ],
      "metadata": {
        "id": "JRr7IMezezNS"
      }
    },
    {
      "cell_type": "code",
      "execution_count": 7,
      "metadata": {
        "colab": {
          "base_uri": "https://localhost:8080/"
        },
        "id": "B5H6HPIzZyqD",
        "outputId": "c3a67372-3b45-4cce-f582-4d61075653d5"
      },
      "outputs": [
        {
          "output_type": "stream",
          "name": "stderr",
          "text": [
            "/usr/local/lib/python3.7/dist-packages/IPython/core/interactiveshell.py:3326: DtypeWarning:\n",
            "\n",
            "Columns (27) have mixed types.Specify dtype option on import or set low_memory=False.\n",
            "\n"
          ]
        }
      ],
      "source": [
        "import pandas as pd\n",
        "import csv\n",
        "import plotly.express as px\n",
        "\n",
        "\n",
        "data = pd.read_csv('microdados_ed_basica_2021.csv', sep=';', encoding='latin-1')\n",
        "\n"
      ]
    },
    {
      "cell_type": "markdown",
      "source": [
        "### Filtragem do dataframe"
      ],
      "metadata": {
        "id": "6s9wumJ4fM8F"
      }
    },
    {
      "cell_type": "code",
      "source": [
        "data_filter_1 = data.query('SG_UF == \"RS\"& 0 < TP_LOCALIZACAO_DIFERENCIADA < 4')   # filtrando por estado e por localização diferenciada\n",
        "\n",
        "data_filter_2 = data_filter_1[['QT_MAT_BAS',\n",
        "                               'QT_DOC_BAS',\n",
        "                               'QT_TUR_BAS',\n",
        "                               'TP_LOCALIZACAO',                # filtrando colunas de interesse\n",
        "                               'TP_LOCALIZACAO_DIFERENCIADA',\n",
        "                               'NO_ENTIDADE',\n",
        "                               'NO_MUNICIPIO']]\n",
        "\n",
        "data_filter_2 = data_filter_2.dropna(subset=['QT_TUR_BAS'])   # excluindo linha NaN do filtro\n",
        "\n",
        "data_filter_2['TP_LOCALIZACAO_DIFERENCIADA'] = data_filter_2['TP_LOCALIZACAO_DIFERENCIADA'].astype(str)   # convertendo para tipo string.\n",
        "\n"
      ],
      "metadata": {
        "id": "IixEokUgeDBf"
      },
      "execution_count": 8,
      "outputs": []
    },
    {
      "cell_type": "markdown",
      "source": [
        "### Gráfico"
      ],
      "metadata": {
        "id": "v8WOPgvuhO22"
      }
    },
    {
      "cell_type": "code",
      "source": [
        "colors = {'1.0':\"brown\",'2.0':\"orange\",'3.0':\"turquoise\"}    # definindo cores\n",
        "order = {'TP_LOCALIZACAO_DIFERENCIADA':['1.0','2.0','3.0']}  # definindo a ordem\n",
        "\n",
        "fig = px.scatter(                                   # plotando o gráfico scatter\n",
        "    data_filter_2, \n",
        "    x='QT_MAT_BAS',                                 # definindo o eixo X por quantidade de matrículas\n",
        "    y='QT_DOC_BAS',                                 # definindo o eixo Y por quantidade de docentes\n",
        "    color = 'TP_LOCALIZACAO_DIFERENCIADA',          # definindo as cores por localização diferenciada\n",
        "    size = 'QT_TUR_BAS',                            # definindo o tamanho por quantidade de turmas\n",
        "    hover_data = [\"NO_ENTIDADE\", \"NO_MUNICIPIO\"],   # acrescentando informações\n",
        "    facet_col = 'TP_LOCALIZACAO',                   # dividindo o grafico em duas partes (urbano e rural)\n",
        "    size_max = 30,                                  # defimindo o tamanho máximo dos marcadores\n",
        "    color_discrete_map = colors,                    # adicionando as cores previamente definidas\n",
        "    category_orders = order,                        # adicionando a ordem previamente definida\n",
        "    opacity = 0.75                                  # definindo a opacidade em 75%\n",
        "    )"
      ],
      "metadata": {
        "id": "bE-OpFz1DjzI"
      },
      "execution_count": 13,
      "outputs": []
    },
    {
      "cell_type": "markdown",
      "source": [
        "### Updates no gráfico"
      ],
      "metadata": {
        "id": "TFIb3kH_hTD2"
      }
    },
    {
      "cell_type": "code",
      "source": [
        "fig.update_traces(marker_line_width = 1, marker_line_color = 'black')   # atualizando espessura e cor dos marcadores\n",
        "fig.update_layout(width = 1200, height = 600)                           # atualizando o tamanho das dimensões da imagem\n",
        "fig.update_layout(\n",
        "    legend = dict(\n",
        "        orientation = 'h',        # orientação da legenda horizontal\n",
        "        yanchor = 'bottom',       # legenda no fundo\n",
        "        y = -0.2,\n",
        "        xanchor = 'center',       # legenda centralizada\n",
        "        x = 0.5\n",
        "    )\n",
        ")\n",
        "\n",
        "rotulos = {'1.0':\"Área de Assentamento\", '2.0':\"Terra Indígena\", '3.0':\"Áreas Remanescentes de Quilombos\"}   # definindo os rótulos\n",
        "\n",
        "fig.for_each_trace(\n",
        "    lambda t: t.update(                   # modificando a legenda inserindo os rótulos\n",
        "        name = rotulos[t.name],\n",
        "        legendgroup = rotulos[t.name]\n",
        "    )\n",
        ")\n",
        "\n",
        "fig.update_layout(\n",
        "    legend = dict(\n",
        "        title = \"<b>Localização Diferenciada:<b>\",      # atualizando o título da legenda\n",
        "        font_size = 12                                  # atualizando o tamanho da legenda\n",
        "    )\n",
        ")\n",
        "\n",
        "\n",
        "fig.update_layout(                                                                    # adicionando o título do gráfico \n",
        "    title = '<b>Censo Escolar 2021:</b> Análise de Localização Diferenciada (RS)',    # decidi colocar parte em negrito e parte normal por questão estética\n",
        "    xaxis = dict(titlefont_size = 14, tickfont_size = 11),                            # atualizando o tamanho da fonte\n",
        "    yaxis = dict(titlefont_size = 14, tickfont_size = 11)\n",
        "    \n",
        "    \n",
        ")\n",
        "fig.update_xaxes(\n",
        "    title_text = '<b>Quantidade de Matrículas',       # atualizando o título do eixo X\n",
        "    title_font_size = 11,                             # atualizando o tamanho da da fonte\n",
        "    range = [-20,500],                                # fixando o range\n",
        "    tick0 = 0,                                        # fixando o ponto de início\n",
        "    dtick = 25                                        # definindo os intervalos\n",
        ")\n",
        "\n",
        "fig.update_yaxes(\n",
        "    title_text = '<b>Quantidade de Docentes',        # atualizando o título do eixo X\n",
        "    title_font_size = 11,                            # atualizando o tamanho da da fonte\n",
        "    range = [-20,200],                               # fixando o range\n",
        "    tick0 = 0,                                       # fixando o ponto de início\n",
        "    dtick = 20                                       # definindo os intervalos\n",
        "\n",
        ")\n",
        "\n",
        "fig.update_layout(yaxis2_title = '')   # decidi remover o título do eixo y do segundo gráfico, pois achei que não estava estéticamente agradável\n",
        "\n",
        "fig.update_layout(template = 'ggplot2')  # atualizando o layout\n",
        "\n",
        "fig.add_annotation(               # acrescentando a fonte\n",
        "     text= \"Fonte: INEP\",\n",
        "    xref= \"paper\",\n",
        "    yref= \"paper\",\n",
        "    font_color= \"darkgrey\",\n",
        "    font_size= 12,\n",
        "    showarrow= False,\n",
        "    y= 1.05,\n",
        "    x= 1)\n",
        "\n",
        "fig.layout.annotations[0].text= \"Rural\"       # alterando os nomes das localizações\n",
        "fig.layout.annotations[1].text= \"Urbano\"\n",
        "\n",
        "fig.show()"
      ],
      "metadata": {
        "id": "gZoQrOV7Cf_u",
        "outputId": "92f10b6d-7a95-426a-dee2-394ad1561179",
        "colab": {
          "base_uri": "https://localhost:8080/",
          "height": 617
        }
      },
      "execution_count": 14,
      "outputs": [
        {
          "output_type": "display_data",
          "data": {
            "text/html": [
              "<html>\n",
              "<head><meta charset=\"utf-8\" /></head>\n",
              "<body>\n",
              "    <div>            <script src=\"https://cdnjs.cloudflare.com/ajax/libs/mathjax/2.7.5/MathJax.js?config=TeX-AMS-MML_SVG\"></script><script type=\"text/javascript\">if (window.MathJax) {MathJax.Hub.Config({SVG: {font: \"STIX-Web\"}});}</script>                <script type=\"text/javascript\">window.PlotlyConfig = {MathJaxConfig: 'local'};</script>\n",
              "        <script src=\"https://cdn.plot.ly/plotly-2.8.3.min.js\"></script>                <div id=\"af183b15-530c-48a8-a659-55b014a49bde\" class=\"plotly-graph-div\" style=\"height:600px; width:1200px;\"></div>            <script type=\"text/javascript\">                                    window.PLOTLYENV=window.PLOTLYENV || {};                                    if (document.getElementById(\"af183b15-530c-48a8-a659-55b014a49bde\")) {                    Plotly.newPlot(                        \"af183b15-530c-48a8-a659-55b014a49bde\",                        [{\"customdata\":[[\"ESC EST ENS FUN CONQUISTA DO JAGUARAO\",\"Acegu\\u00e1\"],[\"EMEF 11 DE SETEMBRO - 1\\u00aa CONQUISTA\",\"Arroio Grande\"],[\"ESC EST ENS FUN TRES DE JULHO\",\"Boa Vista do Incra\"],[\"ESC MUN ENS FUND PAULO FREIRE\",\"Bossoroca\"],[\"EMEF SANTA IZABEL\",\"Candiota\"],[\"ESC EST ENS MED 8 DE AGOSTO\",\"Candiota\"],[\"EMEF SANTA FE\",\"Candiota\"],[\"ESC EST ENS FUN VINTE DE AGOSTO\",\"Candiota\"],[\"ESC EST ENS FUN OZIEL ALVES PEREIRA\",\"Cangu\\u00e7u\"],[\"ESC EST ENS FUN ROSELI CORREA DA SILVA\",\"Cap\\u00e3o do Cip\\u00f3\"],[\"ESC EST ENS FUN CHICO MENDES\",\"Cap\\u00e3o do Cip\\u00f3\"],[\"E E IND ENS FUN ARANDUA\",\"Capivari do Sul\"],[\"EMEF MARCOS DE BARROS FREIRE\",\"Cruz Alta\"],[\"ESC MUN RURAL DE ENS FUN SEPE TIARAJU\",\"Dom Pedrito\"],[\"EMEI FLOR DA TERRA\",\"Eldorado do Sul\"],[\"EMEF ALMIRANTE TAMANDARE\",\"Eldorado do Sul\"],[\"ESC EST ENS FUN PADRE JOSIMO\",\"Eldorado do Sul\"],[\"ESC EST ENS MED ROSELI CORREIA DA SILVA\",\"Eldorado do Sul\"],[\"ESC MUN ENS FUND SEPE TIARAJU\",\"Eldorado do Sul\"],[\"ESC MUN EDUC BASICA SAO LUIZ\",\"Encruzilhada do Sul\"],[\"EMEF CAROLINA ANALIA MORAIS SAIS\",\"Herval\"],[\"ESC MUN ENS FUN LUIZ LIMA DE FARIA\",\"Herval\"],[\"ESC EST ENS MED CORINTHO AVILA ESCOBAR\",\"Herval\"],[\"EMEF ERNESTO CHE GUEVARA\",\"Herval\"],[\"ESC EST ENS FUN CEL LUCIO ANNES DIAS\",\"Fortaleza dos Valos\"],[\"EMEF COLONIA NOVA ESPERANCA\",\"Hulha Negra\"],[\"ESC EST ENS MED QUINZE DE JUNHO\",\"Hulha Negra\"],[\"ESC EST ENS FUN CHICO MENDES\",\"Hulha Negra\"],[\"EMEF CONQUISTA DEZESSEIS DE OUTUBRO\",\"J\\u00f3ia\"],[\"ESC EST ENS FUN BOTAO DE OURO\",\"J\\u00f3ia\"],[\"ESC EST ENS MED JOCELI CORREA\",\"J\\u00f3ia\"],[\"ESC EST ENS FUN 15 DE MARCO\",\"J\\u00falio de Castilhos\"],[\"ESC EST ENS FUN PAULO FREIRE\",\"Manoel Viana\"],[\"E E IND ENS FUN CACIQUE KOGJA JOAQUIM\",\"Mato Castelhano\"],[\"ESCOLA MUNICIPAL DE ENSINO FUNDAMENTAL RUI BARBOSA\",\"Nova Santa Rita\"],[\"ESC MUN ENS FUN TREZE DE MAIO\",\"Nova Santa Rita\"],[\"ESC EST ENS MED NOVA SOCIEDADE\",\"Nova Santa Rita\"],[\"ESC EST ENS FUN ANTONIO DE SOUZA NETO\",\"Palmeira das Miss\\u00f5es\"],[\"ESC MUN ENS FUN EUNIL ELIAS DOS SANTOS\",\"Pedras Altas\"],[\"ESC MUN ENS FUN LAGO AZUL\",\"Pedras Altas\"],[\"EMEF NEUZA BRIZOLA\",\"Pedras Altas\"],[\"ESC EST ENS FUN SEBASTIAO ANTUNES DE ALMEIDA\",\"Pinhal da Serra\"],[\"EMEF PAULO FREIRE\",\"Pinhal Grande\"],[\"EMEF SAO JOAO BATISTA\",\"Pinheiro Machado\"],[\"ESC EST ENS FUN PROFESSOR JOSE ZEFERINO DA SILVEIRA\",\"Piratini\"],[\"ESC EST ENS FUN SEPE TIARAJU\",\"Piratini\"],[\"ESC MUN ENS FUN MARIO QUINTANA\",\"Piratini\"],[\"E E IND ENS FUN FAG NOR\",\"Pont\\u00e3o\"],[\"EMEI E EF OLAVO BILAC\",\"Pont\\u00e3o\"],[\"ESC EST ENS FUN 29 DE OUTUBRO\",\"Pont\\u00e3o\"],[\"ESCOLA MUNICIPAL DE ENSINO FUNDAMENTAL MEM DE SA\",\"Ronda Alta\"],[\"ESC EST ENS FUN ISABEL DE ORLEANS\",\"Ronda Alta\"],[\"EMEF JOAO GONCALVES VIEIRA\",\"Salto do Jacu\\u00ed\"],[\"EMEF UNIAO E VITORIA\",\"Salto do Jacu\\u00ed\"],[\"ESC MUN ENS FUND PAULO FREIRE\",\"Sant'Ana do Livramento\"],[\"EMEF ROSELI NUNES\",\"Sant'Ana do Livramento\"],[\"ESC EST ENS FUN DE COXILHA DE SANTO IGNACIO\",\"Sant'Ana do Livramento\"],[\"ESC EST ENS MED ANTONIO CONSELHEIRO\",\"Sant'Ana do Livramento\"],[\"ESC EST ENS FUN FRANCO BAGLIONI\",\"S\\u00e3o Borja\"],[\"ESC EST ENS FUN SEPE TIARAJU\",\"Sarandi\"],[\"EMEF SERAFIM CORREA DE BARROS NETO\",\"Tupanciret\\u00e3\"],[\"EMEF MARIA ALEYDAH DE MENDONCA MARQUES\",\"Tupanciret\\u00e3\"],[\"EMEF LEONEL DE MOURA BRIZOLA\",\"Tupanciret\\u00e3\"],[\"ESC EST ENS FUN CHICO MENDES\",\"Vacaria\"],[\"EMEF NOSSA SENHORA DE FATIMA\",\"Viam\\u00e3o\"]],\"hovertemplate\":\"TP_LOCALIZACAO_DIFERENCIADA=1.0<br>TP_LOCALIZACAO=2<br>QT_MAT_BAS=%{x}<br>QT_DOC_BAS=%{y}<br>QT_TUR_BAS=%{marker.size}<br>NO_ENTIDADE=%{customdata[0]}<br>NO_MUNICIPIO=%{customdata[1]}<extra></extra>\",\"legendgroup\":\"\\u00c1rea de Assentamento\",\"marker\":{\"color\":\"brown\",\"opacity\":0.75,\"size\":[4.0,7.0,4.0,2.0,10.0,11.0,6.0,3.0,7.0,6.0,5.0,5.0,4.0,4.0,6.0,4.0,1.0,11.0,4.0,11.0,5.0,6.0,9.0,8.0,4.0,13.0,10.0,5.0,8.0,4.0,13.0,4.0,9.0,3.0,7.0,4.0,16.0,2.0,11.0,11.0,10.0,2.0,3.0,10.0,1.0,1.0,4.0,2.0,8.0,6.0,12.0,3.0,8.0,2.0,9.0,11.0,3.0,12.0,4.0,3.0,11.0,10.0,11.0,3.0,11.0],\"sizemode\":\"area\",\"sizeref\":0.028888888888888888,\"symbol\":\"circle\",\"line\":{\"color\":\"black\",\"width\":1}},\"mode\":\"markers\",\"name\":\"\\u00c1rea de Assentamento\",\"orientation\":\"v\",\"showlegend\":true,\"x\":[32.0,64.0,31.0,12.0,150.0,270.0,73.0,35.0,62.0,62.0,32.0,6.0,29.0,23.0,45.0,42.0,12.0,242.0,38.0,132.0,51.0,39.0,98.0,58.0,48.0,105.0,158.0,64.0,67.0,38.0,201.0,22.0,83.0,29.0,78.0,87.0,350.0,25.0,31.0,81.0,36.0,12.0,21.0,128.0,14.0,7.0,30.0,10.0,69.0,88.0,179.0,21.0,105.0,14.0,76.0,85.0,35.0,153.0,52.0,33.0,74.0,53.0,65.0,21.0,277.0],\"xaxis\":\"x\",\"y\":[6.0,47.0,14.0,9.0,7.0,17.0,6.0,5.0,6.0,10.0,13.0,27.0,9.0,8.0,13.0,39.0,45.0,16.0,24.0,5.0,12.0,13.0,34.0,12.0,54.0,5.0,11.0,5.0,11.0,12.0,6.0,3.0,57.0,3.0,7.0,30.0,14.0,75.0,9.0,3.0,2.0,1.0,4.0,35.0,15.0,47.0,15.0,3.0,5.0,16.0,12.0,8.0,27.0,18.0,4.0,31.0,5.0,6.0,51.0,11.0,38.0,34.0,6.0,5.0,10.0],\"yaxis\":\"y\",\"type\":\"scatter\"},{\"customdata\":[[\"E E IND ENS FUN MANOEL INACIO\",\"\\u00c1gua Santa\"],[\"E E IND ENS FUN ALMERAO DOMINGUES NUNES\",\"\\u00c1gua Santa\"],[\"E E IND ENS FUN TEKOA NHUU POTY\",\"Barra do Ribeiro\"],[\"ESC EST IND EF TEKOA GUAPOY\",\"Barra do Ribeiro\"],[\"E E IND ENS FUN YVY POTY\",\"Barra do Ribeiro\"],[\"E E IND ENS FUN TEKOA PORA\",\"Barra do Ribeiro\"],[\"EMIEI GIR SI\",\"Benjamin Constant do Sul\"],[\"ESC EST IND EM TOLDO COROADO\",\"Benjamin Constant do Sul\"],[\"E E IND ENS FUN TOLDO GUARANI\",\"Benjamin Constant do Sul\"],[\"E E IND ENS FUN TAPE MIRI\",\"Cachoeira do Sul\"],[\"E E IND ENS FUN MARIA JASINTA FRANCO\",\"Cacique Doble\"],[\"E E IND ENS FUN FAUSTINO FERREIRA DOBLE\",\"Cacique Doble\"],[\"E E IND ENS FUN ESTERLITO MALAQUIAS\",\"Cacique Doble\"],[\"EMIEI GIR SI MY SER - INFANCIA FELIZ\",\"Cacique Doble\"],[\"E E IND ENS FUN YAKA NHENDU\",\"Cara\\u00e1\"],[\"E E IND ENS FUN TEKOA GUAJAYVI\",\"Charqueadas\"],[\"ESC EST IND EM FAG MAG\",\"Charrua\"],[\"E E IND ENS FUN JOAO SORA VERGUEIRO\",\"Constantina\"],[\"E E IND ENS FUN TANHVE KREGSO\",\"Constantina\"],[\"E E IND ENS FUN TAVAI\",\"Cristal\"],[\"ESCOLA MUNICIPAL INDIGENA DE ENSINO FUNDAMENTAL PAVANH HA\",\"Engenho Velho\"],[\"E E IND ENS FUN VICENTE KARAI OKENDA\",\"Erebango\"],[\"ESC EST IND EM KANHRANRAN FA LUIS OLIVEIRA\",\"Erebango\"],[\"ESC EST IND EM SEPE TIARAJU\",\"Erval Seco\"],[\"E E IND ENS FUN MANOEL SOARES\",\"Estrela\"],[\"E E IND ENS FUN KARAI TATAENDY VERA CLAUDIO ACOSTA\",\"Estrela Velha\"],[\"E E IND ENS FUN NIVO\",\"Farroupilha\"],[\"E E IND ENS FUN MARIA KANDOIA KESO\",\"Faxinalzinho\"],[\"E E IND ENS FUN HELDER TENH FY\",\"Gentil\"],[\"E E IND ENS FUN PERO GA\",\"Gramado dos Loureiros\"],[\"E E IND ENS FUN ARASATY\",\"Gua\\u00edba\"],[\"E E IND ENS FUN MONTE CASEROS\",\"Ibiraiaras\"],[\"ESC EST IND EM NAN GA\",\"Ira\\u00ed\"],[\"ESC EST IND EF GOJ VESO\",\"Ira\\u00ed\"],[\"EMIEI NAN GA\",\"Ira\\u00ed\"],[\"E E IND ENS FUN ANTONIO RUSI\",\"Lajeado do Bugre\"],[\"ESC EST IND EB FRANCISCO KAJERO\",\"Liberato Salzano\"],[\"E E IND ENS FUN KURITY\",\"Maquin\\u00e9\"],[\"ESCOLA MUNICIPAL INDIGENA DE ENSINO FUNDAMENTAL TEKO JEAPO\",\"Maquin\\u00e9\"],[\"E E IND ENS FUN CACIQUE SEPE TIARAJU\",\"Mariana Pimentel\"],[\"E E IND ENS FUN NEN MAG\",\"Mato Castelhano\"],[\"E E IND ENS FUN RETANH LEOPOLDINO\",\"Muliterno\"],[\"ESC EST IND EM JOAQUIM GATEN CASSEMIRO\",\"Nonoai\"],[\"E E IND ENS FUN CACIQUE NONOAI\",\"Nonoai\"],[\"E E IND ENS FUN KUARAY RESE\",\"Os\\u00f3rio\"],[\"EEIKEM CACIQUE SY GRE\",\"Planalto\"],[\"E E IND ENS FUN GUARANI M BARAKA MIRI\",\"Planalto\"],[\"E E IND ENS FUN KAINGANG JAG MAG\",\"Planalto\"],[\"E E IND ENS FUN KAINGANG GOJ ROR\",\"Planalto\"],[\"E E IND ENS FUN GUARANI JOAQUIM MARIANO\",\"Planalto\"],[\"ESC EST IND EM ANTONIO KASIN MIG\",\"Redentora\"],[\"E E IND ENS FUN DAVI RYGJO FERNANDES\",\"Redentora\"],[\"E E IND ENS FUN CACIQUE ANASTACIO FONGUE\",\"Redentora\"],[\"E E IND ENS FUN ROSALINO CLAUDINO\",\"Redentora\"],[\"E E IND ENS FUN TOLDO CAMPINAS\",\"Redentora\"],[\"E E IND ENS FUN HERCULANO JOAQUIM\",\"Redentora\"],[\"E E IND ENS FUN KATIU GRIA\",\"Redentora\"],[\"E E IND ENS FUN CACIQUE NATALICIO\",\"Redentora\"],[\"E E IND ENS FUN CORONEL GERALDINO MINEIRO\",\"Redentora\"],[\"EMIEF SERIES INICIAIS FOTY\",\"Rio dos \\u00cdndios\"],[\"ESC EST IND EF PARA MIRIM\",\"Rio Grande\"],[\"ESC EST IND EM FAG KAVA\",\"Ronda Alta\"],[\"E E IND ENS FUN LUIZ KONHKO\",\"Ronda Alta\"],[\"E E IND ENS FUN ALMERINDA DE MELLO\",\"Salto do Jacu\\u00ed\"],[\"E E IND ENS FUN GUARANI\",\"Salto do Jacu\\u00ed\"],[\"E E IND ENS FUN AUGUSTO OPE DA SILVA\",\"Santa Maria\"],[\"E E IND ENS FUN YVYRA IJA TENONDE VERA MIRI\",\"Santa Maria\"],[\"E E IND ENS FUN IGINEO ROMEU KO EJU\",\"S\\u00e3o Miguel das Miss\\u00f5es\"],[\"INST EST ED IND ANGELO MANHKA MIGUEL\",\"S\\u00e3o Val\\u00e9rio do Sul\"],[\"E E IND ENS FUN MARECHAL CANDIDO RONDON\",\"S\\u00e3o Val\\u00e9rio do Sul\"],[\"E E IND ENS FUN PO MAG\",\"Taba\\u00ed\"],[\"E E IND ENS FUN BENTO PI GOG\",\"Tenente Portela\"],[\"E E IND ENS FUN MUKEJ\",\"Tenente Portela\"],[\"E E IND ENS FUN GOMERCINDO JETE TENH RIBEIRO\",\"Tenente Portela\"],[\"EMIEF FAG-ROR\",\"Tr\\u00eas Palmeiras\"],[\"E E IND ENS FUN NHAMANDU NHEMOPUA\",\"Viam\\u00e3o\"],[\"ESC EST IND EM KARAI NHE E KATU\",\"Viam\\u00e3o\"],[\"ESC EST IND EM KARAI ARANDU\",\"Viam\\u00e3o\"],[\"E E IND ENS FUN RIO DOS INDIOS\",\"Vicente Dutra\"]],\"hovertemplate\":\"TP_LOCALIZACAO_DIFERENCIADA=2.0<br>TP_LOCALIZACAO=2<br>QT_MAT_BAS=%{x}<br>QT_DOC_BAS=%{y}<br>QT_TUR_BAS=%{marker.size}<br>NO_ENTIDADE=%{customdata[0]}<br>NO_MUNICIPIO=%{customdata[1]}<extra></extra>\",\"legendgroup\":\"Terra Ind\\u00edgena\",\"marker\":{\"color\":\"orange\",\"opacity\":0.75,\"size\":[7.0,5.0,4.0,4.0,2.0,3.0,7.0,15.0,1.0,1.0,2.0,9.0,2.0,3.0,1.0,3.0,20.0,2.0,5.0,1.0,3.0,1.0,8.0,6.0,4.0,1.0,2.0,4.0,5.0,9.0,2.0,7.0,15.0,5.0,4.0,2.0,10.0,1.0,1.0,3.0,3.0,6.0,12.0,1.0,3.0,11.0,2.0,3.0,7.0,2.0,21.0,13.0,10.0,10.0,9.0,3.0,4.0,2.0,7.0,5.0,2.0,13.0,3.0,7.0,6.0,5.0,7.0,6.0,11.0,18.0,1.0,11.0,11.0,15.0,10.0,7.0,4.0,9.0,7.0],\"sizemode\":\"area\",\"sizeref\":0.028888888888888888,\"symbol\":\"circle\",\"line\":{\"color\":\"black\",\"width\":1}},\"mode\":\"markers\",\"name\":\"Terra Ind\\u00edgena\",\"orientation\":\"v\",\"showlegend\":true,\"x\":[112.0,45.0,16.0,34.0,33.0,29.0,85.0,240.0,2.0,8.0,12.0,141.0,25.0,46.0,3.0,34.0,337.0,21.0,76.0,2.0,49.0,15.0,56.0,49.0,49.0,6.0,11.0,57.0,35.0,149.0,18.0,115.0,254.0,36.0,74.0,30.0,112.0,3.0,8.0,34.0,20.0,79.0,174.0,8.0,15.0,184.0,9.0,6.0,82.0,22.0,407.0,237.0,129.0,141.0,130.0,31.0,56.0,19.0,85.0,40.0,10.0,180.0,30.0,50.0,61.0,22.0,57.0,65.0,149.0,334.0,7.0,137.0,167.0,198.0,111.0,48.0,35.0,54.0,86.0],\"xaxis\":\"x\",\"y\":[4.0,16.0,2.0,10.0,18.0,1.0,20.0,17.0,14.0,20.0,16.0,13.0,2.0,12.0,6.0,26.0,20.0,33.0,14.0,16.0,8.0,2.0,3.0,5.0,2.0,3.0,3.0,8.0,4.0,2.0,1.0,9.0,3.0,26.0,19.0,16.0,9.0,18.0,6.0,47.0,9.0,22.0,41.0,15.0,7.0,20.0,3.0,21.0,4.0,2.0,18.0,2.0,18.0,16.0,37.0,14.0,3.0,6.0,14.0,21.0,5.0,13.0,6.0,2.0,30.0,2.0,8.0,10.0,8.0,13.0,5.0,5.0,11.0,5.0,4.0,5.0,3.0,5.0,11.0],\"yaxis\":\"y\",\"type\":\"scatter\"},{\"customdata\":[[\"E E IND ENS FUN KAME MRE KANHRUKRE\",\"Carazinho\"],[\"E E IND ENS FUN GATEN\",\"Lajeado\"],[\"E E IND ENS FUN TUPE PAN\",\"Porto Alegre\"],[\"E E IND ENS FUN PINDO POTY\",\"Porto Alegre\"],[\"E E IND ENS FUN KA AGUY MIRI\",\"Porto Alegre\"],[\"ESC EST IND EM ANHETENGUA\",\"Porto Alegre\"],[\"E E IND ENS FUN FAG NHIN\",\"Porto Alegre\"],[\"E E IND ENS FUN NA COMUNIDADE INDIGENA KAINGANG POR FI\",\"S\\u00e3o Leopoldo\"]],\"hovertemplate\":\"TP_LOCALIZACAO_DIFERENCIADA=2.0<br>TP_LOCALIZACAO=1<br>QT_MAT_BAS=%{x}<br>QT_DOC_BAS=%{y}<br>QT_TUR_BAS=%{marker.size}<br>NO_ENTIDADE=%{customdata[0]}<br>NO_MUNICIPIO=%{customdata[1]}<extra></extra>\",\"legendgroup\":\"Terra Ind\\u00edgena\",\"marker\":{\"color\":\"orange\",\"opacity\":0.75,\"size\":[1.0,3.0,2.0,3.0,2.0,13.0,4.0,2.0],\"sizemode\":\"area\",\"sizeref\":0.028888888888888888,\"symbol\":\"circle\",\"line\":{\"color\":\"black\",\"width\":1}},\"mode\":\"markers\",\"name\":\"Terra Ind\\u00edgena\",\"orientation\":\"v\",\"showlegend\":false,\"x\":[11.0,17.0,20.0,9.0,4.0,58.0,38.0,13.0],\"xaxis\":\"x2\",\"y\":[2.0,23.0,11.0,15.0,20.0,33.0,11.0,3.0],\"yaxis\":\"y2\",\"type\":\"scatter\"},{\"customdata\":[[\"EMEB JOAO CADORE\",\"Alegrete\"],[\"EMREF SIMOES PIRES\",\"Bag\\u00e9\"],[\"EMEF HEITOR SOARES RIBEIRO\",\"Cangu\\u00e7u\"],[\"EMEF CARLOS MOREIRA\",\"Cangu\\u00e7u\"],[\"EMEF FRANCISCO MEIRELES\",\"Cangu\\u00e7u\"],[\"EMEF GONCALVES DIAS\",\"Cangu\\u00e7u\"],[\"EMEF GUIDO TIMM VENZKE\",\"Cangu\\u00e7u\"],[\"EMEF JOAQUIM NABUCO\",\"Cangu\\u00e7u\"],[\"EMEF JOSE MARIA DUTRA\",\"Cangu\\u00e7u\"],[\"EMEF JULIO DE CASTILHOS\",\"Cangu\\u00e7u\"],[\"EMEF MARECHAL FLORIANO\",\"Cangu\\u00e7u\"],[\"EMEF OSCAR FONSECA DA SILVA\",\"Cangu\\u00e7u\"],[\"EMEF ALBERTO BERGMANN FILHO\",\"Cangu\\u00e7u\"],[\"EMEF SANTA MARIA\",\"Cangu\\u00e7u\"],[\"EMEF SANTO ANGELO\",\"Cangu\\u00e7u\"],[\"EMEF SAO JOAO BATISTA DE LA SALLE\",\"Cangu\\u00e7u\"],[\"EMEF SAO LUIZ GONZAGA\",\"Cangu\\u00e7u\"],[\"EMEF JOSE LUIZ DA SILVA\",\"Cangu\\u00e7u\"],[\"EMEF VINTE DE SETEMBRO\",\"Cangu\\u00e7u\"],[\"EMEF CRISTO REI\",\"Cangu\\u00e7u\"],[\"EMEF PRES CASTELO BRANCO\",\"Cangu\\u00e7u\"],[\"ESCOLA MUNICIPAL DE ENSINO FUNDAMENTAL ESPIRITO SANTO\",\"Colorado\"],[\"EMEF ACACIO ANTONIO VIEIRA\",\"Formigueiro\"],[\"EMEF SAO JOAO BATISTA\",\"Formigueiro\"],[\"EMEF MARIA JOSE DE FREITAS\",\"General C\\u00e2mara\"],[\"EMEF MARIANTE SOARES PACHECO\",\"Gravata\\u00ed\"],[\"EMEF SANTA CRUZ\",\"Gravata\\u00ed\"],[\"EMEF TOMAS ANTONIO GONZAGA\",\"Jacuizinho\"],[\"ESC MUN ENS FUN OTAVIANO PAIXAO COELHO\",\"Lago\\u00e3o\"],[\"EMEF ORIVALDO BASSANI\",\"Maquin\\u00e9\"],[\"EMEF FLORIANO PEIXOTO\",\"Maquin\\u00e9\"],[\"EMEF ZEFERINO BRASIL\",\"Maquin\\u00e9\"],[\"EEQENSMED SANTA TERESINHA\",\"Maquin\\u00e9\"],[\"ESCOLA MUNICIPAL DE EDUCACAO INFANTIL RAIO DE SOL\",\"Maquin\\u00e9\"],[\"EMF QUITERIA PEREIRA DO NASCIMENTO\",\"Mostardas\"],[\"EMEF SANTO INACIO\",\"Nova Palma\"],[\"EMEF OSVALDO BASTOS\",\"Os\\u00f3rio\"],[\"EMEF WALDEMAR DENZER\",\"Pelotas\"],[\"EMEF NESTOR ELIZEU CROCHEMORE\",\"Pelotas\"],[\"EMEF ERASMO BRAGA\",\"Pelotas\"],[\"EMEF JOAO DA SILVA SILVEIRA\",\"Pelotas\"],[\"EMEF WILSON MULLER\",\"Pelotas\"],[\"EMEF LIMA E SILVA\",\"Pelotas\"],[\"ESC EST ENS MED DEPUTADO ADAO PRETTO\",\"Piratini\"],[\"ESC MUN ENS FUND DR VIEIRA DA CUNHA\",\"Piratini\"],[\"ESC MUN ENS FUN GONCALVES DIAS\",\"Port\\u00e3o\"],[\"EMEF MANUEL ALBINO CARVALHO\",\"Restinga S\\u00eaca\"],[\"EMEF CARMELINO CORREA DE OLIVEIRA\",\"Santana da Boa Vista\"],[\"ESC MUN ENS FUN CENTRO DE DEMONSTRACAO\",\"S\\u00e3o Jos\\u00e9 do Norte\"],[\"EMEF GERMANO HUBNER\",\"S\\u00e3o Louren\\u00e7o do Sul\"],[\"EMEF SADY HAMMES\",\"S\\u00e3o Louren\\u00e7o do Sul\"],[\"EMEF RODOLPHO KRUGER\",\"S\\u00e3o Louren\\u00e7o do Sul\"],[\"EMEF LUIZ GONZAGA CAPAVERDE\",\"Tr\\u00eas Forquilhas\"],[\"ESC MUN ENS FUN PROFESSORA ADELIA FIGUEIREDO DE MENEZES\",\"Vale Verde\"]],\"hovertemplate\":\"TP_LOCALIZACAO_DIFERENCIADA=3.0<br>TP_LOCALIZACAO=2<br>QT_MAT_BAS=%{x}<br>QT_DOC_BAS=%{y}<br>QT_TUR_BAS=%{marker.size}<br>NO_ENTIDADE=%{customdata[0]}<br>NO_MUNICIPIO=%{customdata[1]}<extra></extra>\",\"legendgroup\":\"\\u00c1reas Remanescentes de Quilombos\",\"marker\":{\"color\":\"turquoise\",\"opacity\":0.75,\"size\":[11.0,8.0,13.0,10.0,12.0,10.0,11.0,10.0,9.0,10.0,10.0,11.0,10.0,12.0,9.0,9.0,11.0,9.0,15.0,10.0,10.0,10.0,7.0,7.0,5.0,8.0,6.0,3.0,15.0,3.0,10.0,3.0,8.0,6.0,2.0,4.0,10.0,11.0,15.0,4.0,26.0,10.0,2.0,6.0,12.0,7.0,7.0,5.0,7.0,13.0,15.0,13.0,11.0,8.0],\"sizemode\":\"area\",\"sizeref\":0.028888888888888888,\"symbol\":\"circle\",\"line\":{\"color\":\"black\",\"width\":1}},\"mode\":\"markers\",\"name\":\"\\u00c1reas Remanescentes de Quilombos\",\"orientation\":\"v\",\"showlegend\":true,\"x\":[126.0,65.0,235.0,131.0,116.0,116.0,187.0,94.0,70.0,57.0,131.0,142.0,114.0,206.0,101.0,69.0,120.0,104.0,169.0,138.0,120.0,106.0,58.0,65.0,44.0,86.0,90.0,21.0,206.0,53.0,123.0,25.0,128.0,55.0,23.0,25.0,190.0,157.0,219.0,32.0,333.0,111.0,16.0,126.0,186.0,171.0,100.0,19.0,92.0,248.0,254.0,218.0,87.0,90.0],\"xaxis\":\"x\",\"y\":[11.0,13.0,18.0,25.0,18.0,34.0,16.0,17.0,17.0,6.0,14.0,8.0,17.0,17.0,15.0,48.0,15.0,17.0,17.0,15.0,37.0,6.0,33.0,20.0,23.0,1.0,14.0,2.0,21.0,15.0,24.0,19.0,24.0,19.0,25.0,11.0,18.0,30.0,57.0,36.0,58.0,30.0,16.0,2.0,5.0,25.0,9.0,16.0,4.0,34.0,25.0,28.0,4.0,38.0],\"yaxis\":\"y\",\"type\":\"scatter\"},{\"customdata\":[[\"EMEF PRES GETULIO VARGAS\",\"Cangu\\u00e7u\"],[\"ESC EST ENS FUN IVANYR EUCLINIA MARCHIORO\",\"Caxias do Sul\"],[\"ESCOLA MUNICIPAL DE ENSINO FUNDAMENTAL PRINCESA ISABEL\",\"Colorado\"],[\"EMEI PEQUENO APRENDIZ\",\"Colorado\"],[\"EMEF SANTA CECILIA\",\"Gravata\\u00ed\"],[\"ESC MUN ED INFAN CHAPEUZINHO VERMELHO\",\"Port\\u00e3o\"],[\"ESC EST ENS FUN BAHIA\",\"Porto Alegre\"]],\"hovertemplate\":\"TP_LOCALIZACAO_DIFERENCIADA=3.0<br>TP_LOCALIZACAO=1<br>QT_MAT_BAS=%{x}<br>QT_DOC_BAS=%{y}<br>QT_TUR_BAS=%{marker.size}<br>NO_ENTIDADE=%{customdata[0]}<br>NO_MUNICIPIO=%{customdata[1]}<extra></extra>\",\"legendgroup\":\"\\u00c1reas Remanescentes de Quilombos\",\"marker\":{\"color\":\"turquoise\",\"opacity\":0.75,\"size\":[19.0,9.0,4.0,4.0,15.0,2.0,10.0],\"sizemode\":\"area\",\"sizeref\":0.028888888888888888,\"symbol\":\"circle\",\"line\":{\"color\":\"black\",\"width\":1}},\"mode\":\"markers\",\"name\":\"\\u00c1reas Remanescentes de Quilombos\",\"orientation\":\"v\",\"showlegend\":false,\"x\":[285.0,173.0,36.0,36.0,299.0,31.0,226.0],\"xaxis\":\"x2\",\"y\":[12.0,5.0,22.0,5.0,7.0,10.0,157.0],\"yaxis\":\"y2\",\"type\":\"scatter\"}],                        {\"template\":{\"data\":{\"barpolar\":[{\"marker\":{\"line\":{\"color\":\"rgb(237,237,237)\",\"width\":0.5},\"pattern\":{\"fillmode\":\"overlay\",\"size\":10,\"solidity\":0.2}},\"type\":\"barpolar\"}],\"bar\":[{\"error_x\":{\"color\":\"rgb(51,51,51)\"},\"error_y\":{\"color\":\"rgb(51,51,51)\"},\"marker\":{\"line\":{\"color\":\"rgb(237,237,237)\",\"width\":0.5},\"pattern\":{\"fillmode\":\"overlay\",\"size\":10,\"solidity\":0.2}},\"type\":\"bar\"}],\"carpet\":[{\"aaxis\":{\"endlinecolor\":\"rgb(51,51,51)\",\"gridcolor\":\"white\",\"linecolor\":\"white\",\"minorgridcolor\":\"white\",\"startlinecolor\":\"rgb(51,51,51)\"},\"baxis\":{\"endlinecolor\":\"rgb(51,51,51)\",\"gridcolor\":\"white\",\"linecolor\":\"white\",\"minorgridcolor\":\"white\",\"startlinecolor\":\"rgb(51,51,51)\"},\"type\":\"carpet\"}],\"choropleth\":[{\"colorbar\":{\"outlinewidth\":0,\"tickcolor\":\"rgb(237,237,237)\",\"ticklen\":6,\"ticks\":\"inside\"},\"type\":\"choropleth\"}],\"contourcarpet\":[{\"colorbar\":{\"outlinewidth\":0,\"tickcolor\":\"rgb(237,237,237)\",\"ticklen\":6,\"ticks\":\"inside\"},\"type\":\"contourcarpet\"}],\"contour\":[{\"colorbar\":{\"outlinewidth\":0,\"tickcolor\":\"rgb(237,237,237)\",\"ticklen\":6,\"ticks\":\"inside\"},\"colorscale\":[[0,\"rgb(20,44,66)\"],[1,\"rgb(90,179,244)\"]],\"type\":\"contour\"}],\"heatmapgl\":[{\"colorbar\":{\"outlinewidth\":0,\"tickcolor\":\"rgb(237,237,237)\",\"ticklen\":6,\"ticks\":\"inside\"},\"colorscale\":[[0,\"rgb(20,44,66)\"],[1,\"rgb(90,179,244)\"]],\"type\":\"heatmapgl\"}],\"heatmap\":[{\"colorbar\":{\"outlinewidth\":0,\"tickcolor\":\"rgb(237,237,237)\",\"ticklen\":6,\"ticks\":\"inside\"},\"colorscale\":[[0,\"rgb(20,44,66)\"],[1,\"rgb(90,179,244)\"]],\"type\":\"heatmap\"}],\"histogram2dcontour\":[{\"colorbar\":{\"outlinewidth\":0,\"tickcolor\":\"rgb(237,237,237)\",\"ticklen\":6,\"ticks\":\"inside\"},\"colorscale\":[[0,\"rgb(20,44,66)\"],[1,\"rgb(90,179,244)\"]],\"type\":\"histogram2dcontour\"}],\"histogram2d\":[{\"colorbar\":{\"outlinewidth\":0,\"tickcolor\":\"rgb(237,237,237)\",\"ticklen\":6,\"ticks\":\"inside\"},\"colorscale\":[[0,\"rgb(20,44,66)\"],[1,\"rgb(90,179,244)\"]],\"type\":\"histogram2d\"}],\"histogram\":[{\"marker\":{\"pattern\":{\"fillmode\":\"overlay\",\"size\":10,\"solidity\":0.2}},\"type\":\"histogram\"}],\"mesh3d\":[{\"colorbar\":{\"outlinewidth\":0,\"tickcolor\":\"rgb(237,237,237)\",\"ticklen\":6,\"ticks\":\"inside\"},\"type\":\"mesh3d\"}],\"parcoords\":[{\"line\":{\"colorbar\":{\"outlinewidth\":0,\"tickcolor\":\"rgb(237,237,237)\",\"ticklen\":6,\"ticks\":\"inside\"}},\"type\":\"parcoords\"}],\"pie\":[{\"automargin\":true,\"type\":\"pie\"}],\"scatter3d\":[{\"line\":{\"colorbar\":{\"outlinewidth\":0,\"tickcolor\":\"rgb(237,237,237)\",\"ticklen\":6,\"ticks\":\"inside\"}},\"marker\":{\"colorbar\":{\"outlinewidth\":0,\"tickcolor\":\"rgb(237,237,237)\",\"ticklen\":6,\"ticks\":\"inside\"}},\"type\":\"scatter3d\"}],\"scattercarpet\":[{\"marker\":{\"colorbar\":{\"outlinewidth\":0,\"tickcolor\":\"rgb(237,237,237)\",\"ticklen\":6,\"ticks\":\"inside\"}},\"type\":\"scattercarpet\"}],\"scattergeo\":[{\"marker\":{\"colorbar\":{\"outlinewidth\":0,\"tickcolor\":\"rgb(237,237,237)\",\"ticklen\":6,\"ticks\":\"inside\"}},\"type\":\"scattergeo\"}],\"scattergl\":[{\"marker\":{\"colorbar\":{\"outlinewidth\":0,\"tickcolor\":\"rgb(237,237,237)\",\"ticklen\":6,\"ticks\":\"inside\"}},\"type\":\"scattergl\"}],\"scattermapbox\":[{\"marker\":{\"colorbar\":{\"outlinewidth\":0,\"tickcolor\":\"rgb(237,237,237)\",\"ticklen\":6,\"ticks\":\"inside\"}},\"type\":\"scattermapbox\"}],\"scatterpolargl\":[{\"marker\":{\"colorbar\":{\"outlinewidth\":0,\"tickcolor\":\"rgb(237,237,237)\",\"ticklen\":6,\"ticks\":\"inside\"}},\"type\":\"scatterpolargl\"}],\"scatterpolar\":[{\"marker\":{\"colorbar\":{\"outlinewidth\":0,\"tickcolor\":\"rgb(237,237,237)\",\"ticklen\":6,\"ticks\":\"inside\"}},\"type\":\"scatterpolar\"}],\"scatter\":[{\"marker\":{\"colorbar\":{\"outlinewidth\":0,\"tickcolor\":\"rgb(237,237,237)\",\"ticklen\":6,\"ticks\":\"inside\"}},\"type\":\"scatter\"}],\"scatterternary\":[{\"marker\":{\"colorbar\":{\"outlinewidth\":0,\"tickcolor\":\"rgb(237,237,237)\",\"ticklen\":6,\"ticks\":\"inside\"}},\"type\":\"scatterternary\"}],\"surface\":[{\"colorbar\":{\"outlinewidth\":0,\"tickcolor\":\"rgb(237,237,237)\",\"ticklen\":6,\"ticks\":\"inside\"},\"colorscale\":[[0,\"rgb(20,44,66)\"],[1,\"rgb(90,179,244)\"]],\"type\":\"surface\"}],\"table\":[{\"cells\":{\"fill\":{\"color\":\"rgb(237,237,237)\"},\"line\":{\"color\":\"white\"}},\"header\":{\"fill\":{\"color\":\"rgb(217,217,217)\"},\"line\":{\"color\":\"white\"}},\"type\":\"table\"}]},\"layout\":{\"annotationdefaults\":{\"arrowhead\":0,\"arrowwidth\":1},\"autotypenumbers\":\"strict\",\"coloraxis\":{\"colorbar\":{\"outlinewidth\":0,\"tickcolor\":\"rgb(237,237,237)\",\"ticklen\":6,\"ticks\":\"inside\"}},\"colorscale\":{\"sequential\":[[0,\"rgb(20,44,66)\"],[1,\"rgb(90,179,244)\"]],\"sequentialminus\":[[0,\"rgb(20,44,66)\"],[1,\"rgb(90,179,244)\"]]},\"colorway\":[\"#F8766D\",\"#A3A500\",\"#00BF7D\",\"#00B0F6\",\"#E76BF3\"],\"font\":{\"color\":\"rgb(51,51,51)\"},\"geo\":{\"bgcolor\":\"white\",\"lakecolor\":\"white\",\"landcolor\":\"rgb(237,237,237)\",\"showlakes\":true,\"showland\":true,\"subunitcolor\":\"white\"},\"hoverlabel\":{\"align\":\"left\"},\"hovermode\":\"closest\",\"paper_bgcolor\":\"white\",\"plot_bgcolor\":\"rgb(237,237,237)\",\"polar\":{\"angularaxis\":{\"gridcolor\":\"white\",\"linecolor\":\"white\",\"showgrid\":true,\"tickcolor\":\"rgb(51,51,51)\",\"ticks\":\"outside\"},\"bgcolor\":\"rgb(237,237,237)\",\"radialaxis\":{\"gridcolor\":\"white\",\"linecolor\":\"white\",\"showgrid\":true,\"tickcolor\":\"rgb(51,51,51)\",\"ticks\":\"outside\"}},\"scene\":{\"xaxis\":{\"backgroundcolor\":\"rgb(237,237,237)\",\"gridcolor\":\"white\",\"gridwidth\":2,\"linecolor\":\"white\",\"showbackground\":true,\"showgrid\":true,\"tickcolor\":\"rgb(51,51,51)\",\"ticks\":\"outside\",\"zerolinecolor\":\"white\"},\"yaxis\":{\"backgroundcolor\":\"rgb(237,237,237)\",\"gridcolor\":\"white\",\"gridwidth\":2,\"linecolor\":\"white\",\"showbackground\":true,\"showgrid\":true,\"tickcolor\":\"rgb(51,51,51)\",\"ticks\":\"outside\",\"zerolinecolor\":\"white\"},\"zaxis\":{\"backgroundcolor\":\"rgb(237,237,237)\",\"gridcolor\":\"white\",\"gridwidth\":2,\"linecolor\":\"white\",\"showbackground\":true,\"showgrid\":true,\"tickcolor\":\"rgb(51,51,51)\",\"ticks\":\"outside\",\"zerolinecolor\":\"white\"}},\"shapedefaults\":{\"fillcolor\":\"black\",\"line\":{\"width\":0},\"opacity\":0.3},\"ternary\":{\"aaxis\":{\"gridcolor\":\"white\",\"linecolor\":\"white\",\"showgrid\":true,\"tickcolor\":\"rgb(51,51,51)\",\"ticks\":\"outside\"},\"baxis\":{\"gridcolor\":\"white\",\"linecolor\":\"white\",\"showgrid\":true,\"tickcolor\":\"rgb(51,51,51)\",\"ticks\":\"outside\"},\"bgcolor\":\"rgb(237,237,237)\",\"caxis\":{\"gridcolor\":\"white\",\"linecolor\":\"white\",\"showgrid\":true,\"tickcolor\":\"rgb(51,51,51)\",\"ticks\":\"outside\"}},\"xaxis\":{\"automargin\":true,\"gridcolor\":\"white\",\"linecolor\":\"white\",\"showgrid\":true,\"tickcolor\":\"rgb(51,51,51)\",\"ticks\":\"outside\",\"title\":{\"standoff\":15},\"zerolinecolor\":\"white\"},\"yaxis\":{\"automargin\":true,\"gridcolor\":\"white\",\"linecolor\":\"white\",\"showgrid\":true,\"tickcolor\":\"rgb(51,51,51)\",\"ticks\":\"outside\",\"title\":{\"standoff\":15},\"zerolinecolor\":\"white\"}}},\"xaxis\":{\"anchor\":\"y\",\"domain\":[0.0,0.49],\"title\":{\"text\":\"<b>Quantidade de Matr\\u00edculas\",\"font\":{\"size\":11}},\"tickfont\":{\"size\":11},\"range\":[-20,500],\"tick0\":0,\"dtick\":25},\"yaxis\":{\"anchor\":\"x\",\"domain\":[0.0,1.0],\"title\":{\"text\":\"<b>Quantidade de Docentes\",\"font\":{\"size\":11}},\"tickfont\":{\"size\":11},\"range\":[-20,200],\"tick0\":0,\"dtick\":20},\"xaxis2\":{\"anchor\":\"y2\",\"domain\":[0.51,1.0],\"matches\":\"x\",\"title\":{\"text\":\"<b>Quantidade de Matr\\u00edculas\",\"font\":{\"size\":11}},\"range\":[-20,500],\"tick0\":0,\"dtick\":25},\"yaxis2\":{\"anchor\":\"x2\",\"domain\":[0.0,1.0],\"matches\":\"y\",\"showticklabels\":false,\"title\":{\"text\":\"\"},\"range\":[-20,200],\"tick0\":0,\"dtick\":20},\"annotations\":[{\"showarrow\":false,\"text\":\"Rural\",\"x\":0.245,\"xanchor\":\"center\",\"xref\":\"paper\",\"y\":1.0,\"yanchor\":\"bottom\",\"yref\":\"paper\"},{\"showarrow\":false,\"text\":\"Urbano\",\"x\":0.755,\"xanchor\":\"center\",\"xref\":\"paper\",\"y\":1.0,\"yanchor\":\"bottom\",\"yref\":\"paper\"},{\"font\":{\"color\":\"darkgrey\",\"size\":12},\"showarrow\":false,\"text\":\"Fonte: INEP\",\"x\":1,\"xref\":\"paper\",\"y\":1.05,\"yref\":\"paper\"}],\"legend\":{\"title\":{\"text\":\"<b>Localiza\\u00e7\\u00e3o Diferenciada:<b>\"},\"tracegroupgap\":0,\"itemsizing\":\"constant\",\"orientation\":\"h\",\"yanchor\":\"bottom\",\"y\":-0.2,\"xanchor\":\"center\",\"x\":0.5,\"font\":{\"size\":12}},\"margin\":{\"t\":60},\"width\":1200,\"height\":600,\"title\":{\"text\":\"<b>Censo Escolar 2021:</b> An\\u00e1lise de Localiza\\u00e7\\u00e3o Diferenciada (RS)\"}},                        {\"responsive\": true}                    ).then(function(){\n",
              "                            \n",
              "var gd = document.getElementById('af183b15-530c-48a8-a659-55b014a49bde');\n",
              "var x = new MutationObserver(function (mutations, observer) {{\n",
              "        var display = window.getComputedStyle(gd).display;\n",
              "        if (!display || display === 'none') {{\n",
              "            console.log([gd, 'removed!']);\n",
              "            Plotly.purge(gd);\n",
              "            observer.disconnect();\n",
              "        }}\n",
              "}});\n",
              "\n",
              "// Listen for the removal of the full notebook cells\n",
              "var notebookContainer = gd.closest('#notebook-container');\n",
              "if (notebookContainer) {{\n",
              "    x.observe(notebookContainer, {childList: true});\n",
              "}}\n",
              "\n",
              "// Listen for the clearing of the current output cell\n",
              "var outputEl = gd.closest('.output');\n",
              "if (outputEl) {{\n",
              "    x.observe(outputEl, {childList: true});\n",
              "}}\n",
              "\n",
              "                        })                };                            </script>        </div>\n",
              "</body>\n",
              "</html>"
            ]
          },
          "metadata": {}
        }
      ]
    },
    {
      "cell_type": "markdown",
      "source": [
        "### Exportando o gráfico\n"
      ],
      "metadata": {
        "id": "4MyUozs7kJ6q"
      }
    },
    {
      "cell_type": "code",
      "source": [
        "fig.write_html(\"localizacao_diferenciada_rs.html\")"
      ],
      "metadata": {
        "id": "I2gGc5X1kJoz"
      },
      "execution_count": 16,
      "outputs": []
    }
  ]
}